{
 "cells": [
  {
   "cell_type": "markdown",
   "metadata": {},
   "source": [
    "## Final Project Submission\n",
    "\n",
    "- Student name: Jack Locke\n",
    "- Student pace: Self-paced\n",
    "- Instructor name: Mark Barbour"
   ]
  },
  {
   "cell_type": "markdown",
   "metadata": {},
   "source": [
    "# Hospital Length of Stay Model Analysis"
   ]
  },
  {
   "cell_type": "markdown",
   "metadata": {},
   "source": [
    "![hospital.jpeg](./images/hospital.jpeg)"
   ]
  },
  {
   "cell_type": "markdown",
   "metadata": {},
   "source": [
    "## Overview"
   ]
  },
  {
   "cell_type": "markdown",
   "metadata": {},
   "source": [
    "- 1. Business Understanding\n",
    "- 2. Data Understanding\n",
    "- 3. Data Preparation\n",
    "        - a. Dropping Unnecessary Columns\n",
    "        - b. Handle Missing/Null Values\n",
    "        - c. Handle Placeholder Values/Column Manipulation\n",
    "        - d. Primary Column Information\n",
    "- 4. Exploratory Data Analysis\n",
    "        - a. Patient Disposition vs. Length of Stay\n",
    "        - b. Diagnosis vs. Length of Stay\n",
    "        - c. Procedure vs. Length of Stay\n",
    "- 5. Modeling\n",
    "        - a. Train/Validation/Test Splits\n",
    "        - b. Evaluation Metrics\n",
    "        - c. Categorical/Numerical Columns\n",
    "        - d. Baseline Linear Regression (No PCA)\n",
    "        - e. Three Regression Models\n",
    "            - Linear Regression (with PCA)\n",
    "            - Decision Tree Regression\n",
    "            - LinearSVR\n",
    "        - f. Tuning LinearSVR with Gridsearch\n",
    "- 6. Evaluation\n",
    "        - a. Final Model\n",
    "- 7. Conclusions\n",
    "        - a. Limitations\n",
    "        - b. Recommendations/Next Steps\n"
   ]
  },
  {
   "cell_type": "markdown",
   "metadata": {},
   "source": [
    "## Business Understanding"
   ]
  },
  {
   "cell_type": "markdown",
   "metadata": {},
   "source": [
    "The business stakeholder is a healthcare hospital chain that wants to predict the length of stay for patients to improve resource allocation and patient care. My project analyzes patients' lengths of stay based on patient discharge data. The discharge data contains patient information such as diagnosis, disposition, procedures, etc. The model aims to predict the length of stay based on these features. While doing so, the model will find patterns and trends in the data that will help the business better understand what leads to longer/shorter lengths of stay. The additional information will lead to improved resource allocation and patient care, leading to more business growth. My analysis will use the CRISP-DM (Cross-industry standard process for data mining) methodology.\n"
   ]
  },
  {
   "cell_type": "markdown",
   "metadata": {},
   "source": [
    "## Data Understanding"
   ]
  },
  {
   "cell_type": "markdown",
   "metadata": {},
   "source": [
    "I am working with a dataset released by New York State in regard to inpatient discharge. The dataset I used for the model analysis will focus on King County (Brooklyn) hospitals. “The Statewide Planning and Research Cooperative System (SPARCS) Inpatient De-identified dataset is a wealth of information, containing discharge level detail on various aspects of hospital inpatient discharges in New York State during the year 2010. From patient characteristics such as age group, gender, race and ethnicity to diagnoses, treatments, services and charges - all data elements excluding those considered identifiable have been made available within this dataset. This data does not contain any protected health information (PHI) under the Health Insurance Portability and Accountability Act (HIPAA).” The dataset contains roughly 300,000 rows and 38 columns. Below is a link to the dataset and information on each feature.\n",
    "\n",
    "\n",
    "1* Citation/Data: https://www.kaggle.com/datasets/thedevastator/2010-new-york-state-hospital-inpatient-discharge"
   ]
  },
  {
   "cell_type": "code",
   "execution_count": 1,
   "metadata": {},
   "outputs": [],
   "source": [
    "import warnings\n",
    "warnings.filterwarnings(\"ignore\")\n",
    "\n",
    "import pandas as pd\n",
    "import numpy as np\n",
    "from math import sqrt\n",
    "\n",
    "import matplotlib.pyplot as plt\n",
    "%matplotlib inline\n",
    "import matplotlib.patches as mpatches\n",
    "import seaborn as sns\n",
    "\n",
    "from sklearn.compose import ColumnTransformer\n",
    "from sklearn.pipeline import Pipeline\n",
    "from sklearn.decomposition import PCA\n",
    "\n",
    "from sklearn.preprocessing import OneHotEncoder\n",
    "from sklearn.preprocessing import StandardScaler\n",
    "\n",
    "from sklearn.model_selection import train_test_split\n",
    "from sklearn.model_selection import cross_validate\n",
    "from sklearn.model_selection import GridSearchCV\n",
    "\n",
    "from sklearn.linear_model import LinearRegression\n",
    "from sklearn.tree import DecisionTreeRegressor\n",
    "from sklearn.svm import LinearSVR\n",
    "\n",
    "from sklearn.metrics import mean_squared_error"
   ]
  },
  {
   "cell_type": "code",
   "execution_count": 2,
   "metadata": {},
   "outputs": [
    {
     "data": {
      "text/html": [
       "<div>\n",
       "<style scoped>\n",
       "    .dataframe tbody tr th:only-of-type {\n",
       "        vertical-align: middle;\n",
       "    }\n",
       "\n",
       "    .dataframe tbody tr th {\n",
       "        vertical-align: top;\n",
       "    }\n",
       "\n",
       "    .dataframe thead th {\n",
       "        text-align: right;\n",
       "    }\n",
       "</style>\n",
       "<table border=\"1\" class=\"dataframe\">\n",
       "  <thead>\n",
       "    <tr style=\"text-align: right;\">\n",
       "      <th></th>\n",
       "      <th>index</th>\n",
       "      <th>Health Service Area</th>\n",
       "      <th>Hospital County</th>\n",
       "      <th>Operating Certificate Number</th>\n",
       "      <th>Facility ID</th>\n",
       "      <th>Facility Name</th>\n",
       "      <th>Age Group</th>\n",
       "      <th>Zip Code - 3 digits</th>\n",
       "      <th>Gender</th>\n",
       "      <th>Race</th>\n",
       "      <th>...</th>\n",
       "      <th>Source of Payment 2</th>\n",
       "      <th>Source of Payment 3</th>\n",
       "      <th>Attending Provider License Number</th>\n",
       "      <th>Operating Provider License Number</th>\n",
       "      <th>Other Provider License Number</th>\n",
       "      <th>Birth Weight</th>\n",
       "      <th>Abortion Edit Indicator</th>\n",
       "      <th>Emergency Department Indicator</th>\n",
       "      <th>Total Charges</th>\n",
       "      <th>Total Costs</th>\n",
       "    </tr>\n",
       "  </thead>\n",
       "  <tbody>\n",
       "    <tr>\n",
       "      <th>1540091</th>\n",
       "      <td>1540091</td>\n",
       "      <td>New York City</td>\n",
       "      <td>Kings</td>\n",
       "      <td>7001002.0</td>\n",
       "      <td>1286.0</td>\n",
       "      <td>Brookdale Hospital Medical Center</td>\n",
       "      <td>0 to 17</td>\n",
       "      <td>100</td>\n",
       "      <td>M</td>\n",
       "      <td>White</td>\n",
       "      <td>...</td>\n",
       "      <td>Medicaid</td>\n",
       "      <td>NaN</td>\n",
       "      <td>188326.0</td>\n",
       "      <td>NaN</td>\n",
       "      <td>188326.0</td>\n",
       "      <td>2700</td>\n",
       "      <td>N</td>\n",
       "      <td>N</td>\n",
       "      <td>17611.10</td>\n",
       "      <td>9305.60</td>\n",
       "    </tr>\n",
       "    <tr>\n",
       "      <th>1540092</th>\n",
       "      <td>1540092</td>\n",
       "      <td>New York City</td>\n",
       "      <td>Kings</td>\n",
       "      <td>7001002.0</td>\n",
       "      <td>1286.0</td>\n",
       "      <td>Brookdale Hospital Medical Center</td>\n",
       "      <td>0 to 17</td>\n",
       "      <td>100</td>\n",
       "      <td>M</td>\n",
       "      <td>Black/African American</td>\n",
       "      <td>...</td>\n",
       "      <td>Medicaid</td>\n",
       "      <td>NaN</td>\n",
       "      <td>222314.0</td>\n",
       "      <td>10026852.0</td>\n",
       "      <td>222314.0</td>\n",
       "      <td>0</td>\n",
       "      <td>N</td>\n",
       "      <td>Y</td>\n",
       "      <td>12429.82</td>\n",
       "      <td>8025.98</td>\n",
       "    </tr>\n",
       "    <tr>\n",
       "      <th>1540093</th>\n",
       "      <td>1540093</td>\n",
       "      <td>New York City</td>\n",
       "      <td>Kings</td>\n",
       "      <td>7001002.0</td>\n",
       "      <td>1286.0</td>\n",
       "      <td>Brookdale Hospital Medical Center</td>\n",
       "      <td>0 to 17</td>\n",
       "      <td>100</td>\n",
       "      <td>M</td>\n",
       "      <td>Black/African American</td>\n",
       "      <td>...</td>\n",
       "      <td>Medicaid</td>\n",
       "      <td>NaN</td>\n",
       "      <td>188566.0</td>\n",
       "      <td>188566.0</td>\n",
       "      <td>188566.0</td>\n",
       "      <td>2800</td>\n",
       "      <td>N</td>\n",
       "      <td>N</td>\n",
       "      <td>20759.16</td>\n",
       "      <td>11015.50</td>\n",
       "    </tr>\n",
       "    <tr>\n",
       "      <th>1540094</th>\n",
       "      <td>1540094</td>\n",
       "      <td>New York City</td>\n",
       "      <td>Kings</td>\n",
       "      <td>7001002.0</td>\n",
       "      <td>1286.0</td>\n",
       "      <td>Brookdale Hospital Medical Center</td>\n",
       "      <td>0 to 17</td>\n",
       "      <td>100</td>\n",
       "      <td>F</td>\n",
       "      <td>Black/African American</td>\n",
       "      <td>...</td>\n",
       "      <td>NaN</td>\n",
       "      <td>NaN</td>\n",
       "      <td>188566.0</td>\n",
       "      <td>188566.0</td>\n",
       "      <td>188566.0</td>\n",
       "      <td>1600</td>\n",
       "      <td>N</td>\n",
       "      <td>N</td>\n",
       "      <td>62600.46</td>\n",
       "      <td>33468.42</td>\n",
       "    </tr>\n",
       "    <tr>\n",
       "      <th>1540095</th>\n",
       "      <td>1540095</td>\n",
       "      <td>New York City</td>\n",
       "      <td>Kings</td>\n",
       "      <td>7001002.0</td>\n",
       "      <td>1286.0</td>\n",
       "      <td>Brookdale Hospital Medical Center</td>\n",
       "      <td>0 to 17</td>\n",
       "      <td>100</td>\n",
       "      <td>F</td>\n",
       "      <td>Black/African American</td>\n",
       "      <td>...</td>\n",
       "      <td>NaN</td>\n",
       "      <td>NaN</td>\n",
       "      <td>135666.0</td>\n",
       "      <td>135666.0</td>\n",
       "      <td>135666.0</td>\n",
       "      <td>0</td>\n",
       "      <td>N</td>\n",
       "      <td>Y</td>\n",
       "      <td>24109.50</td>\n",
       "      <td>12666.76</td>\n",
       "    </tr>\n",
       "  </tbody>\n",
       "</table>\n",
       "<p>5 rows × 38 columns</p>\n",
       "</div>"
      ],
      "text/plain": [
       "           index Health Service Area Hospital County  \\\n",
       "1540091  1540091       New York City           Kings   \n",
       "1540092  1540092       New York City           Kings   \n",
       "1540093  1540093       New York City           Kings   \n",
       "1540094  1540094       New York City           Kings   \n",
       "1540095  1540095       New York City           Kings   \n",
       "\n",
       "         Operating Certificate Number  Facility ID  \\\n",
       "1540091                     7001002.0       1286.0   \n",
       "1540092                     7001002.0       1286.0   \n",
       "1540093                     7001002.0       1286.0   \n",
       "1540094                     7001002.0       1286.0   \n",
       "1540095                     7001002.0       1286.0   \n",
       "\n",
       "                             Facility Name Age Group Zip Code - 3 digits  \\\n",
       "1540091  Brookdale Hospital Medical Center   0 to 17                 100   \n",
       "1540092  Brookdale Hospital Medical Center   0 to 17                 100   \n",
       "1540093  Brookdale Hospital Medical Center   0 to 17                 100   \n",
       "1540094  Brookdale Hospital Medical Center   0 to 17                 100   \n",
       "1540095  Brookdale Hospital Medical Center   0 to 17                 100   \n",
       "\n",
       "        Gender                    Race  ... Source of Payment 2  \\\n",
       "1540091      M                   White  ...            Medicaid   \n",
       "1540092      M  Black/African American  ...            Medicaid   \n",
       "1540093      M  Black/African American  ...            Medicaid   \n",
       "1540094      F  Black/African American  ...                 NaN   \n",
       "1540095      F  Black/African American  ...                 NaN   \n",
       "\n",
       "        Source of Payment 3 Attending Provider License Number  \\\n",
       "1540091                 NaN                          188326.0   \n",
       "1540092                 NaN                          222314.0   \n",
       "1540093                 NaN                          188566.0   \n",
       "1540094                 NaN                          188566.0   \n",
       "1540095                 NaN                          135666.0   \n",
       "\n",
       "        Operating Provider License Number  Other Provider License Number  \\\n",
       "1540091                               NaN                       188326.0   \n",
       "1540092                        10026852.0                       222314.0   \n",
       "1540093                          188566.0                       188566.0   \n",
       "1540094                          188566.0                       188566.0   \n",
       "1540095                          135666.0                       135666.0   \n",
       "\n",
       "         Birth Weight Abortion Edit Indicator  Emergency Department Indicator  \\\n",
       "1540091          2700                       N                               N   \n",
       "1540092             0                       N                               Y   \n",
       "1540093          2800                       N                               N   \n",
       "1540094          1600                       N                               N   \n",
       "1540095             0                       N                               Y   \n",
       "\n",
       "        Total Charges  Total Costs  \n",
       "1540091      17611.10      9305.60  \n",
       "1540092      12429.82      8025.98  \n",
       "1540093      20759.16     11015.50  \n",
       "1540094      62600.46     33468.42  \n",
       "1540095      24109.50     12666.76  \n",
       "\n",
       "[5 rows x 38 columns]"
      ]
     },
     "execution_count": 2,
     "metadata": {},
     "output_type": "execute_result"
    }
   ],
   "source": [
    "patients = pd.read_csv('data/hospital-inpatient-discharges-sparcs-de-identified-2010-1.csv')\n",
    "patients = patients[(patients['Hospital County']=='Kings')]\n",
    "patients.head()"
   ]
  },
  {
   "cell_type": "markdown",
   "metadata": {},
   "source": [
    "## Data Preparation"
   ]
  },
  {
   "cell_type": "markdown",
   "metadata": {},
   "source": [
    "First, I dropped all unnecessary columns. These were columns that held no value to the model. I dropped columns that were missing most of their data, were unique identifiers, or only had one unique value. After doing that, I removed all rows containing missing data because it was a small amount, and afterward, I still had roughly 300,000 rows, which was sufficient for my model analysis. Additionally, I handled placeholder values. I also performed a simple linear regression in Statsmodels and looked at each feature's p-values. I dropped columns whose p-values were not statistically significant. After that, I looked at the three columns that had the most significant impact on my model based on their coefficients from the simple linear regression. "
   ]
  },
  {
   "cell_type": "markdown",
   "metadata": {},
   "source": [
    "- A. Dropping Unnecessary Columns\n",
    "- B. Handle Missing/Null Values\n",
    "- C. Handle Placeholder Values/Column Manipulation\n",
    "- D. Primary Columns Information\n"
   ]
  },
  {
   "cell_type": "markdown",
   "metadata": {},
   "source": [
    "### Drop Unneccesary Columns"
   ]
  },
  {
   "cell_type": "code",
   "execution_count": 3,
   "metadata": {},
   "outputs": [],
   "source": [
    "patients.drop(columns=['index', 'Source of Payment 2', 'Source of Payment 3', 'Operating Provider License Number', \n",
    "                       'Other Provider License Number', 'Operating Certificate Number', 'Facility ID', \n",
    "                       'CCS Procedure Code', 'APR DRG Code', 'APR MDC Code', 'Attending Provider License Number',\n",
    "                       'Discharge Year', 'APR Severity of Illness Code', 'CCS Diagnosis Code','Hospital County', \n",
    "                       'Health Service Area', 'APR MDC Description','APR Medical Surgical Description', 'Zip Code - 3 digits','Emergency Department Indicator', 'Birth Weight', \n",
    "                       'Abortion Edit Indicator','APR DRG Description','APR Risk of Mortality', 'Source of Payment 1','Ethnicity',\n",
    "                       'APR Severity of Illness Description'], inplace=True)\n"
   ]
  },
  {
   "cell_type": "markdown",
   "metadata": {},
   "source": [
    "### Handle Missing/Null"
   ]
  },
  {
   "cell_type": "code",
   "execution_count": 4,
   "metadata": {},
   "outputs": [
    {
     "data": {
      "text/plain": [
       "Facility Name                 0\n",
       "Age Group                     0\n",
       "Gender                        0\n",
       "Race                          0\n",
       "Length of Stay                0\n",
       "Type of Admission             0\n",
       "Patient Disposition           6\n",
       "CCS Diagnosis Description    62\n",
       "CCS Procedure Description    62\n",
       "Total Charges                 0\n",
       "Total Costs                   0\n",
       "dtype: int64"
      ]
     },
     "execution_count": 4,
     "metadata": {},
     "output_type": "execute_result"
    }
   ],
   "source": [
    "patients.isna().sum()"
   ]
  },
  {
   "cell_type": "code",
   "execution_count": 5,
   "metadata": {},
   "outputs": [],
   "source": [
    "patients = patients.dropna(how='any',axis=0)"
   ]
  },
  {
   "cell_type": "markdown",
   "metadata": {},
   "source": [
    "### Handle Placeholder Values/Column Manipulation"
   ]
  },
  {
   "cell_type": "code",
   "execution_count": 6,
   "metadata": {},
   "outputs": [],
   "source": [
    "names = []\n",
    "for name in patients.columns:    \n",
    "    name = name.replace(' ', '_')\n",
    "    name = name.lower()\n",
    "    names.append(name)\n",
    "patients.columns = names"
   ]
  },
  {
   "cell_type": "code",
   "execution_count": 7,
   "metadata": {},
   "outputs": [],
   "source": [
    "patients['gender'] = patients['gender'].apply(lambda x: 'F' if x == 'U' else x)"
   ]
  },
  {
   "cell_type": "code",
   "execution_count": 8,
   "metadata": {},
   "outputs": [],
   "source": [
    "patients['race'] = patients['race'].apply(lambda x: 'White' if x == 'Unknown' else x)"
   ]
  },
  {
   "cell_type": "code",
   "execution_count": 9,
   "metadata": {},
   "outputs": [],
   "source": [
    "patients['type_of_admission'] = patients['type_of_admission'].apply(lambda x: 'Emergency' if x == 'Not Available' \n",
    "                                                                    else x)"
   ]
  },
  {
   "cell_type": "code",
   "execution_count": 10,
   "metadata": {},
   "outputs": [],
   "source": [
    "patients['length_of_stay'] = patients['length_of_stay'].apply(lambda x: '120' if x == '120 +' else x)"
   ]
  },
  {
   "cell_type": "code",
   "execution_count": 11,
   "metadata": {},
   "outputs": [],
   "source": [
    "patients['length_of_stay'] = patients['length_of_stay'].astype(int)"
   ]
  },
  {
   "cell_type": "code",
   "execution_count": 12,
   "metadata": {},
   "outputs": [],
   "source": [
    "patients['patient_disposition'] = patients['patient_disposition'].apply(lambda x: 'Home or Self Care' if \n",
    "                                                                        (x == 'Expired' or \n",
    "                                                                        x == 'Another Type Not Listed') else x)"
   ]
  },
  {
   "cell_type": "markdown",
   "metadata": {},
   "source": [
    "### Primary Column Information"
   ]
  },
  {
   "cell_type": "code",
   "execution_count": 13,
   "metadata": {},
   "outputs": [
    {
     "name": "stdout",
     "output_type": "stream",
     "text": [
      "<class 'pandas.core.frame.DataFrame'>\n",
      "Int64Index: 298179 entries, 1540091 to 2478653\n",
      "Data columns (total 11 columns):\n",
      " #   Column                     Non-Null Count   Dtype  \n",
      "---  ------                     --------------   -----  \n",
      " 0   facility_name              298179 non-null  object \n",
      " 1   age_group                  298179 non-null  object \n",
      " 2   gender                     298179 non-null  object \n",
      " 3   race                       298179 non-null  object \n",
      " 4   length_of_stay             298179 non-null  int64  \n",
      " 5   type_of_admission          298179 non-null  object \n",
      " 6   patient_disposition        298179 non-null  object \n",
      " 7   ccs_diagnosis_description  298179 non-null  object \n",
      " 8   ccs_procedure_description  298179 non-null  object \n",
      " 9   total_charges              298179 non-null  float64\n",
      " 10  total_costs                298179 non-null  float64\n",
      "dtypes: float64(2), int64(1), object(8)\n",
      "memory usage: 27.3+ MB\n"
     ]
    }
   ],
   "source": [
    "patients.info()"
   ]
  },
  {
   "cell_type": "code",
   "execution_count": 14,
   "metadata": {},
   "outputs": [
    {
     "data": {
      "text/plain": [
       "2    69688\n",
       "3    52125\n",
       "1    43369\n",
       "4    29519\n",
       "5    19796\n",
       "Name: length_of_stay, dtype: int64"
      ]
     },
     "execution_count": 14,
     "metadata": {},
     "output_type": "execute_result"
    }
   ],
   "source": [
    "patients['length_of_stay'].value_counts().head()"
   ]
  },
  {
   "cell_type": "code",
   "execution_count": 15,
   "metadata": {},
   "outputs": [
    {
     "data": {
      "text/plain": [
       "Home or Self Care               220505\n",
       "Home w/ Home Health Services     28413\n",
       "Skilled Nursing Home             24269\n",
       "Left Against Medical Advice      11490\n",
       "Short-term Hospital               5392\n",
       "Name: patient_disposition, dtype: int64"
      ]
     },
     "execution_count": 15,
     "metadata": {},
     "output_type": "execute_result"
    }
   ],
   "source": [
    "patients['patient_disposition'].value_counts().head()"
   ]
  },
  {
   "cell_type": "code",
   "execution_count": 16,
   "metadata": {},
   "outputs": [
    {
     "data": {
      "text/plain": [
       "LIVEBORN      31558\n",
       "CHF            7932\n",
       "SEPTICEMIA     7620\n",
       "CHEST PAIN     7573\n",
       "ASTHMA         7519\n",
       "Name: ccs_diagnosis_description, dtype: int64"
      ]
     },
     "execution_count": 16,
     "metadata": {},
     "output_type": "execute_result"
    }
   ],
   "source": [
    "patients['ccs_diagnosis_description'].value_counts().head()"
   ]
  },
  {
   "cell_type": "code",
   "execution_count": 17,
   "metadata": {},
   "outputs": [
    {
     "data": {
      "text/plain": [
       "NO PROC                    58749\n",
       "OTHER THERAPEUTIC PRCS     25349\n",
       "OPHTHALM-/OT-OLOGIC DX     13803\n",
       "PSYCHO/PSYCHI EVAL/THER    11504\n",
       "CESAREAN SECTION           10197\n",
       "Name: ccs_procedure_description, dtype: int64"
      ]
     },
     "execution_count": 17,
     "metadata": {},
     "output_type": "execute_result"
    }
   ],
   "source": [
    "patients['ccs_procedure_description'].value_counts().head()"
   ]
  },
  {
   "cell_type": "code",
   "execution_count": 18,
   "metadata": {},
   "outputs": [],
   "source": [
    "patients.reset_index(inplace=True,drop=True)"
   ]
  },
  {
   "cell_type": "markdown",
   "metadata": {},
   "source": [
    "## Exploratory Data Analysis"
   ]
  },
  {
   "cell_type": "markdown",
   "metadata": {},
   "source": [
    "As mentioned, my EDA will focus on the three most significant coefficient estimates, which had some of the largest impacts on my model. I will explore their relationships to our target variable, the length of stay. This will help me understand patterns and trends within our dataset."
   ]
  },
  {
   "cell_type": "code",
   "execution_count": 19,
   "metadata": {},
   "outputs": [],
   "source": [
    "#The bar graph will show us the relationships between H1N1 and our most influential features. Creating a function\n",
    "#for reusability for each one of our three recommendations. \n",
    "\n",
    "\n",
    "def bar_graph(x,y,df,title,xlabel,ylabel):\n",
    "    \n",
    "    '''\n",
    "    The bar graph will take in our x-axis, y-axis, data needed, title for graph, and labels for our x axis and \n",
    "    y axis. \n",
    "    '''\n",
    "    \n",
    "    plt.figure(figsize=(12, 10))\n",
    "\n",
    "    ax1 = sns.barplot(x=x,  y=y, data=df, color='blue')\n",
    "\n",
    "    ax1.bar_label(ax1.containers[0],size=16)\n",
    "    # show the graph\n",
    "\n",
    "    plt.title(title,fontsize=20)\n",
    "    plt.xlabel(xlabel,fontsize=20)\n",
    "    plt.ylabel(ylabel,fontsize=20)\n",
    "    plt.tick_params(axis='y',labelsize=20)\n",
    "    plt.tick_params(axis='x',labelsize=18)\n",
    "    plt.show()"
   ]
  },
  {
   "cell_type": "markdown",
   "metadata": {},
   "source": [
    "### Patient Disposition vs. Length of Stay"
   ]
  },
  {
   "cell_type": "code",
   "execution_count": 20,
   "metadata": {},
   "outputs": [],
   "source": [
    "disposition = patients.groupby(['patient_disposition'])[['length_of_stay']].mean().sort_values(by='length_of_stay', \n",
    "                                                                                  ascending=False).head(5)"
   ]
  },
  {
   "cell_type": "code",
   "execution_count": 21,
   "metadata": {},
   "outputs": [],
   "source": [
    "disposition.reset_index(inplace=True)"
   ]
  },
  {
   "cell_type": "code",
   "execution_count": 22,
   "metadata": {},
   "outputs": [],
   "source": [
    "disposition['length_of_stay'] = disposition['length_of_stay'].apply(lambda x: int(x))"
   ]
  },
  {
   "cell_type": "code",
   "execution_count": 23,
   "metadata": {},
   "outputs": [
    {
     "data": {
      "image/png": "[encoded data removed]",
      "text/plain": [
       "<Figure size 864x720 with 1 Axes>"
      ]
     },
     "metadata": {
      "needs_background": "light"
     },
     "output_type": "display_data"
    }
   ],
   "source": [
    "bar_graph(disposition['length_of_stay'],disposition['patient_disposition'], disposition,\n",
    "          'Patient Disposition vs. Length of Stay', 'Length of Stay','Patient Disposition')"
   ]
  },
  {
   "cell_type": "markdown",
   "metadata": {},
   "source": [
    "### Diagnosis vs. Length of Stay"
   ]
  },
  {
   "cell_type": "code",
   "execution_count": 24,
   "metadata": {},
   "outputs": [],
   "source": [
    "diagnosis = patients.groupby(['ccs_diagnosis_description'])[['length_of_stay']].mean().sort_values(\n",
    "                                                                    by='length_of_stay', ascending=False).head(5)"
   ]
  },
  {
   "cell_type": "code",
   "execution_count": 25,
   "metadata": {},
   "outputs": [],
   "source": [
    "diagnosis.reset_index(inplace=True)"
   ]
  },
  {
   "cell_type": "code",
   "execution_count": 26,
   "metadata": {},
   "outputs": [],
   "source": [
    "diagnosis['length_of_stay'] = diagnosis['length_of_stay'].apply(lambda x: int(x))"
   ]
  },
  {
   "cell_type": "code",
   "execution_count": 27,
   "metadata": {},
   "outputs": [
    {
     "data": {
      "image/png": "[encoded data removed]",
      "text/plain": [
       "<Figure size 864x720 with 1 Axes>"
      ]
     },
     "metadata": {
      "needs_background": "light"
     },
     "output_type": "display_data"
    }
   ],
   "source": [
    "bar_graph(diagnosis['length_of_stay'],diagnosis['ccs_diagnosis_description'], diagnosis,\n",
    "          'Diagnosis vs. Length of Stay', 'Length of Stay','Diagnosis')"
   ]
  },
  {
   "cell_type": "markdown",
   "metadata": {},
   "source": [
    "### Procedure vs. Length of Stay"
   ]
  },
  {
   "cell_type": "code",
   "execution_count": 28,
   "metadata": {},
   "outputs": [],
   "source": [
    "procedure = patients.groupby(['ccs_procedure_description'])[['length_of_stay']].mean().sort_values(\n",
    "                                                                    by='length_of_stay', ascending=False).head(5)"
   ]
  },
  {
   "cell_type": "code",
   "execution_count": 29,
   "metadata": {},
   "outputs": [],
   "source": [
    "procedure.reset_index(inplace=True)"
   ]
  },
  {
   "cell_type": "code",
   "execution_count": 30,
   "metadata": {},
   "outputs": [],
   "source": [
    "procedure['length_of_stay'] = procedure['length_of_stay'].apply(lambda x: int(x))"
   ]
  },
  {
   "cell_type": "code",
   "execution_count": 31,
   "metadata": {},
   "outputs": [
    {
     "data": {
      "image/png": "[encoded data removed]",
      "text/plain": [
       "<Figure size 864x720 with 1 Axes>"
      ]
     },
     "metadata": {
      "needs_background": "light"
     },
     "output_type": "display_data"
    }
   ],
   "source": [
    "bar_graph(procedure['length_of_stay'],procedure['ccs_procedure_description'], procedure,\n",
    "          'Procedure vs. Length of Stay', 'Length of Stay','Procedure')"
   ]
  },
  {
   "cell_type": "markdown",
   "metadata": {},
   "source": [
    "## Model"
   ]
  },
  {
   "cell_type": "markdown",
   "metadata": {},
   "source": [
    "### Train/Valid/Test Splits"
   ]
  },
  {
   "cell_type": "code",
   "execution_count": 32,
   "metadata": {},
   "outputs": [],
   "source": [
    "X = patients.drop(columns = ['length_of_stay'], axis=1)\n",
    "y = patients['length_of_stay']"
   ]
  },
  {
   "cell_type": "code",
   "execution_count": 33,
   "metadata": {},
   "outputs": [],
   "source": [
    "X_train, X_test, y_train, y_test = train_test_split(X, y, test_size=0.2, random_state=42, stratify=y)"
   ]
  },
  {
   "cell_type": "code",
   "execution_count": 34,
   "metadata": {},
   "outputs": [],
   "source": [
    "X_train, X_valid, y_train, y_valid = train_test_split(X_train, y_train, test_size=0.2, random_state=42, \n",
    "                                                      stratify=y_train)"
   ]
  },
  {
   "cell_type": "code",
   "execution_count": 35,
   "metadata": {
    "scrolled": true
   },
   "outputs": [
    {
     "name": "stdout",
     "output_type": "stream",
     "text": [
      "Train percent: 0.14544578010207826\n",
      "Valid percent:  0.14544425580079232\n",
      "Hold percent:  0.14544905761620497\n"
     ]
    }
   ],
   "source": [
    "#Showing that each dataset split possesses similar percentage of y values. \n",
    "print(\"Train percent:\", y_train.value_counts(normalize=True)[1])\n",
    "print(\"Valid percent: \", y_valid.value_counts(normalize=True)[1])\n",
    "print(\"Hold percent: \", y_test.value_counts(normalize=True)[1])"
   ]
  },
  {
   "cell_type": "markdown",
   "metadata": {},
   "source": [
    "### Evaluation Metrics"
   ]
  },
  {
   "cell_type": "code",
   "execution_count": 36,
   "metadata": {},
   "outputs": [],
   "source": [
    "#Creating a metrics function that will be reused for all of our modeling. It will contain the two metrics I am most\n",
    "#focused on: recall and f1. \n",
    "def metrics_cv(cross_val_r2, cross_val_rmse, model_type, data):\n",
    "    \n",
    "    '''\n",
    "    The function will take in two cross validation scores. One for recall and one for f1. It will then print out\n",
    "    the mean score for the train and test sets from the cross validation folds. Additionally, it will take in the \n",
    "    model type used (logistic regression), and which dataset it is being performed on (train, valid).\n",
    "    '''\n",
    "    \n",
    "    print(f\"{model_type} {data} cross validation scores:\")\n",
    "    print('\\n')\n",
    "    print(\"r2 scores - \")\n",
    "    print(f\"Average Train Score: {np.mean(cross_val_r2['train_score'])}\")\n",
    "    print(f\"Average Test Score: {np.mean(cross_val_r2['test_score'])}\")\n",
    "    print('\\n')\n",
    "    print('rmse scores -')\n",
    "    print(f\"Average Train Score: {np.mean(cross_val_rmse['train_score'])}\")\n",
    "    print(f\"Average Test Score: {np.mean(cross_val_rmse['test_score'])}\")\n",
    "    \n",
    "#*4: Citation\n",
    "#*5: Citation\n",
    "#*6: Citation"
   ]
  },
  {
   "cell_type": "markdown",
   "metadata": {},
   "source": [
    "### Categorical/Numerical Columns"
   ]
  },
  {
   "cell_type": "code",
   "execution_count": 37,
   "metadata": {},
   "outputs": [],
   "source": [
    "def category(value):\n",
    "    cols = []\n",
    "\n",
    "    for col in patients.columns:\n",
    "        if patients[col].dtype == value:\n",
    "            cols.append(col)\n",
    "        \n",
    "    return cols"
   ]
  },
  {
   "cell_type": "code",
   "execution_count": 38,
   "metadata": {},
   "outputs": [],
   "source": [
    "cat_cols = category('O')\n",
    "num_cols = category('float64')"
   ]
  },
  {
   "cell_type": "markdown",
   "metadata": {},
   "source": [
    "### Column Transformer for Preprocessing"
   ]
  },
  {
   "cell_type": "code",
   "execution_count": 39,
   "metadata": {},
   "outputs": [],
   "source": [
    "preprocessor = ColumnTransformer(\n",
    "    transformers=[\n",
    "        ('scaled', StandardScaler(), num_cols),\n",
    "        ('ohe', OneHotEncoder(sparse_output=False, handle_unknown='ignore'), cat_cols)\n",
    "    ])"
   ]
  },
  {
   "cell_type": "markdown",
   "metadata": {},
   "source": [
    "### Baseline Linear Regression (No PCA)"
   ]
  },
  {
   "cell_type": "code",
   "execution_count": 40,
   "metadata": {},
   "outputs": [],
   "source": [
    "baseline_pipeline = Pipeline(steps=[('preprocessor', preprocessor),\n",
    "                              ('model', LinearRegression())\n",
    "                             ])"
   ]
  },
  {
   "cell_type": "code",
   "execution_count": 41,
   "metadata": {},
   "outputs": [
    {
     "data": {
      "text/html": [
       "<style>#sk-container-id-1 {color: black;}#sk-container-id-1 pre{padding: 0;}#sk-container-id-1 div.sk-toggleable {background-color: white;}#sk-container-id-1 label.sk-toggleable__label {cursor: pointer;display: block;width: 100%;margin-bottom: 0;padding: 0.3em;box-sizing: border-box;text-align: center;}#sk-container-id-1 label.sk-toggleable__label-arrow:before {content: \"▸\";float: left;margin-right: 0.25em;color: #696969;}#sk-container-id-1 label.sk-toggleable__label-arrow:hover:before {color: black;}#sk-container-id-1 div.sk-estimator:hover label.sk-toggleable__label-arrow:before {color: black;}#sk-container-id-1 div.sk-toggleable__content {max-height: 0;max-width: 0;overflow: hidden;text-align: left;background-color: #f0f8ff;}#sk-container-id-1 div.sk-toggleable__content pre {margin: 0.2em;color: black;border-radius: 0.25em;background-color: #f0f8ff;}#sk-container-id-1 input.sk-toggleable__control:checked~div.sk-toggleable__content {max-height: 200px;max-width: 100%;overflow: auto;}#sk-container-id-1 input.sk-toggleable__control:checked~label.sk-toggleable__label-arrow:before {content: \"▾\";}#sk-container-id-1 div.sk-estimator input.sk-toggleable__control:checked~label.sk-toggleable__label {background-color: #d4ebff;}#sk-container-id-1 div.sk-label input.sk-toggleable__control:checked~label.sk-toggleable__label {background-color: #d4ebff;}#sk-container-id-1 input.sk-hidden--visually {border: 0;clip: rect(1px 1px 1px 1px);clip: rect(1px, 1px, 1px, 1px);height: 1px;margin: -1px;overflow: hidden;padding: 0;position: absolute;width: 1px;}#sk-container-id-1 div.sk-estimator {font-family: monospace;background-color: #f0f8ff;border: 1px dotted black;border-radius: 0.25em;box-sizing: border-box;margin-bottom: 0.5em;}#sk-container-id-1 div.sk-estimator:hover {background-color: #d4ebff;}#sk-container-id-1 div.sk-parallel-item::after {content: \"\";width: 100%;border-bottom: 1px solid gray;flex-grow: 1;}#sk-container-id-1 div.sk-label:hover label.sk-toggleable__label {background-color: #d4ebff;}#sk-container-id-1 div.sk-serial::before {content: \"\";position: absolute;border-left: 1px solid gray;box-sizing: border-box;top: 0;bottom: 0;left: 50%;z-index: 0;}#sk-container-id-1 div.sk-serial {display: flex;flex-direction: column;align-items: center;background-color: white;padding-right: 0.2em;padding-left: 0.2em;position: relative;}#sk-container-id-1 div.sk-item {position: relative;z-index: 1;}#sk-container-id-1 div.sk-parallel {display: flex;align-items: stretch;justify-content: center;background-color: white;position: relative;}#sk-container-id-1 div.sk-item::before, #sk-container-id-1 div.sk-parallel-item::before {content: \"\";position: absolute;border-left: 1px solid gray;box-sizing: border-box;top: 0;bottom: 0;left: 50%;z-index: -1;}#sk-container-id-1 div.sk-parallel-item {display: flex;flex-direction: column;z-index: 1;position: relative;background-color: white;}#sk-container-id-1 div.sk-parallel-item:first-child::after {align-self: flex-end;width: 50%;}#sk-container-id-1 div.sk-parallel-item:last-child::after {align-self: flex-start;width: 50%;}#sk-container-id-1 div.sk-parallel-item:only-child::after {width: 0;}#sk-container-id-1 div.sk-dashed-wrapped {border: 1px dashed gray;margin: 0 0.4em 0.5em 0.4em;box-sizing: border-box;padding-bottom: 0.4em;background-color: white;}#sk-container-id-1 div.sk-label label {font-family: monospace;font-weight: bold;display: inline-block;line-height: 1.2em;}#sk-container-id-1 div.sk-label-container {text-align: center;}#sk-container-id-1 div.sk-container {/* jupyter's `normalize.less` sets `[hidden] { display: none; }` but bootstrap.min.css set `[hidden] { display: none !important; }` so we also need the `!important` here to be able to override the default hidden behavior on the sphinx rendered scikit-learn.org. See: https://github.com/scikit-learn/scikit-learn/issues/21755 */display: inline-block !important;position: relative;}#sk-container-id-1 div.sk-text-repr-fallback {display: none;}</style><div id=\"sk-container-id-1\" class=\"sk-top-container\"><div class=\"sk-text-repr-fallback\"><pre>Pipeline(steps=[(&#x27;preprocessor&#x27;,\n",
       "                 ColumnTransformer(transformers=[(&#x27;scaled&#x27;, StandardScaler(),\n",
       "                                                  [&#x27;total_charges&#x27;,\n",
       "                                                   &#x27;total_costs&#x27;]),\n",
       "                                                 (&#x27;ohe&#x27;,\n",
       "                                                  OneHotEncoder(handle_unknown=&#x27;ignore&#x27;,\n",
       "                                                                sparse_output=False),\n",
       "                                                  [&#x27;facility_name&#x27;, &#x27;age_group&#x27;,\n",
       "                                                   &#x27;gender&#x27;, &#x27;race&#x27;,\n",
       "                                                   &#x27;type_of_admission&#x27;,\n",
       "                                                   &#x27;patient_disposition&#x27;,\n",
       "                                                   &#x27;ccs_diagnosis_description&#x27;,\n",
       "                                                   &#x27;ccs_procedure_description&#x27;])])),\n",
       "                (&#x27;model&#x27;, LinearRegression())])</pre><b>In a Jupyter environment, please rerun this cell to show the HTML representation or trust the notebook. <br />On GitHub, the HTML representation is unable to render, please try loading this page with nbviewer.org.</b></div><div class=\"sk-container\" hidden><div class=\"sk-item sk-dashed-wrapped\"><div class=\"sk-label-container\"><div class=\"sk-label sk-toggleable\"><input class=\"sk-toggleable__control sk-hidden--visually\" id=\"sk-estimator-id-1\" type=\"checkbox\" ><label for=\"sk-estimator-id-1\" class=\"sk-toggleable__label sk-toggleable__label-arrow\">Pipeline</label><div class=\"sk-toggleable__content\"><pre>Pipeline(steps=[(&#x27;preprocessor&#x27;,\n",
       "                 ColumnTransformer(transformers=[(&#x27;scaled&#x27;, StandardScaler(),\n",
       "                                                  [&#x27;total_charges&#x27;,\n",
       "                                                   &#x27;total_costs&#x27;]),\n",
       "                                                 (&#x27;ohe&#x27;,\n",
       "                                                  OneHotEncoder(handle_unknown=&#x27;ignore&#x27;,\n",
       "                                                                sparse_output=False),\n",
       "                                                  [&#x27;facility_name&#x27;, &#x27;age_group&#x27;,\n",
       "                                                   &#x27;gender&#x27;, &#x27;race&#x27;,\n",
       "                                                   &#x27;type_of_admission&#x27;,\n",
       "                                                   &#x27;patient_disposition&#x27;,\n",
       "                                                   &#x27;ccs_diagnosis_description&#x27;,\n",
       "                                                   &#x27;ccs_procedure_description&#x27;])])),\n",
       "                (&#x27;model&#x27;, LinearRegression())])</pre></div></div></div><div class=\"sk-serial\"><div class=\"sk-item sk-dashed-wrapped\"><div class=\"sk-label-container\"><div class=\"sk-label sk-toggleable\"><input class=\"sk-toggleable__control sk-hidden--visually\" id=\"sk-estimator-id-2\" type=\"checkbox\" ><label for=\"sk-estimator-id-2\" class=\"sk-toggleable__label sk-toggleable__label-arrow\">preprocessor: ColumnTransformer</label><div class=\"sk-toggleable__content\"><pre>ColumnTransformer(transformers=[(&#x27;scaled&#x27;, StandardScaler(),\n",
       "                                 [&#x27;total_charges&#x27;, &#x27;total_costs&#x27;]),\n",
       "                                (&#x27;ohe&#x27;,\n",
       "                                 OneHotEncoder(handle_unknown=&#x27;ignore&#x27;,\n",
       "                                               sparse_output=False),\n",
       "                                 [&#x27;facility_name&#x27;, &#x27;age_group&#x27;, &#x27;gender&#x27;,\n",
       "                                  &#x27;race&#x27;, &#x27;type_of_admission&#x27;,\n",
       "                                  &#x27;patient_disposition&#x27;,\n",
       "                                  &#x27;ccs_diagnosis_description&#x27;,\n",
       "                                  &#x27;ccs_procedure_description&#x27;])])</pre></div></div></div><div class=\"sk-parallel\"><div class=\"sk-parallel-item\"><div class=\"sk-item\"><div class=\"sk-label-container\"><div class=\"sk-label sk-toggleable\"><input class=\"sk-toggleable__control sk-hidden--visually\" id=\"sk-estimator-id-3\" type=\"checkbox\" ><label for=\"sk-estimator-id-3\" class=\"sk-toggleable__label sk-toggleable__label-arrow\">scaled</label><div class=\"sk-toggleable__content\"><pre>[&#x27;total_charges&#x27;, &#x27;total_costs&#x27;]</pre></div></div></div><div class=\"sk-serial\"><div class=\"sk-item\"><div class=\"sk-estimator sk-toggleable\"><input class=\"sk-toggleable__control sk-hidden--visually\" id=\"sk-estimator-id-4\" type=\"checkbox\" ><label for=\"sk-estimator-id-4\" class=\"sk-toggleable__label sk-toggleable__label-arrow\">StandardScaler</label><div class=\"sk-toggleable__content\"><pre>StandardScaler()</pre></div></div></div></div></div></div><div class=\"sk-parallel-item\"><div class=\"sk-item\"><div class=\"sk-label-container\"><div class=\"sk-label sk-toggleable\"><input class=\"sk-toggleable__control sk-hidden--visually\" id=\"sk-estimator-id-5\" type=\"checkbox\" ><label for=\"sk-estimator-id-5\" class=\"sk-toggleable__label sk-toggleable__label-arrow\">ohe</label><div class=\"sk-toggleable__content\"><pre>[&#x27;facility_name&#x27;, &#x27;age_group&#x27;, &#x27;gender&#x27;, &#x27;race&#x27;, &#x27;type_of_admission&#x27;, &#x27;patient_disposition&#x27;, &#x27;ccs_diagnosis_description&#x27;, &#x27;ccs_procedure_description&#x27;]</pre></div></div></div><div class=\"sk-serial\"><div class=\"sk-item\"><div class=\"sk-estimator sk-toggleable\"><input class=\"sk-toggleable__control sk-hidden--visually\" id=\"sk-estimator-id-6\" type=\"checkbox\" ><label for=\"sk-estimator-id-6\" class=\"sk-toggleable__label sk-toggleable__label-arrow\">OneHotEncoder</label><div class=\"sk-toggleable__content\"><pre>OneHotEncoder(handle_unknown=&#x27;ignore&#x27;, sparse_output=False)</pre></div></div></div></div></div></div></div></div><div class=\"sk-item\"><div class=\"sk-estimator sk-toggleable\"><input class=\"sk-toggleable__control sk-hidden--visually\" id=\"sk-estimator-id-7\" type=\"checkbox\" ><label for=\"sk-estimator-id-7\" class=\"sk-toggleable__label sk-toggleable__label-arrow\">LinearRegression</label><div class=\"sk-toggleable__content\"><pre>LinearRegression()</pre></div></div></div></div></div></div></div>"
      ],
      "text/plain": [
       "Pipeline(steps=[('preprocessor',\n",
       "                 ColumnTransformer(transformers=[('scaled', StandardScaler(),\n",
       "                                                  ['total_charges',\n",
       "                                                   'total_costs']),\n",
       "                                                 ('ohe',\n",
       "                                                  OneHotEncoder(handle_unknown='ignore',\n",
       "                                                                sparse_output=False),\n",
       "                                                  ['facility_name', 'age_group',\n",
       "                                                   'gender', 'race',\n",
       "                                                   'type_of_admission',\n",
       "                                                   'patient_disposition',\n",
       "                                                   'ccs_diagnosis_description',\n",
       "                                                   'ccs_procedure_description'])])),\n",
       "                ('model', LinearRegression())])"
      ]
     },
     "execution_count": 41,
     "metadata": {},
     "output_type": "execute_result"
    }
   ],
   "source": [
    "baseline_pipeline.fit(X_train, y_train)"
   ]
  },
  {
   "cell_type": "code",
   "execution_count": 42,
   "metadata": {},
   "outputs": [],
   "source": [
    "baseline_r2 = cross_validate(baseline_pipeline, X_train, y_train, scoring=\"r2\", return_train_score=True)\n",
    "baseline_rmse = cross_validate(baseline_pipeline, X_train, y_train, scoring=\"neg_root_mean_squared_error\", \n",
    "                               return_train_score=True)"
   ]
  },
  {
   "cell_type": "code",
   "execution_count": 43,
   "metadata": {
    "scrolled": true
   },
   "outputs": [
    {
     "name": "stdout",
     "output_type": "stream",
     "text": [
      "Baseline Linear Regression X_train cross validation scores:\n",
      "\n",
      "\n",
      "r2 scores - \n",
      "Average Train Score: 0.7475137371964214\n",
      "Average Test Score: -180977439779729.84\n",
      "\n",
      "\n",
      "rmse scores -\n",
      "Average Train Score: -4.321365760923102\n",
      "Average Test Score: -86293192.77328877\n"
     ]
    }
   ],
   "source": [
    "metrics_cv(baseline_r2,baseline_rmse, 'Baseline Linear Regression', 'X_train')"
   ]
  },
  {
   "cell_type": "markdown",
   "metadata": {},
   "source": [
    "### Three Regression Models: Linear Regression, Decision Tree Regression, LinearSVR"
   ]
  },
  {
   "cell_type": "markdown",
   "metadata": {},
   "source": [
    "#### Linear Regression with PCA"
   ]
  },
  {
   "cell_type": "code",
   "execution_count": 44,
   "metadata": {},
   "outputs": [],
   "source": [
    "linreg_pipeline = Pipeline(steps=[('preprocessor', preprocessor),\n",
    "                              ('pca', PCA(n_components= 200,random_state=42)),\n",
    "                              ('model', LinearRegression())\n",
    "                             ])"
   ]
  },
  {
   "cell_type": "code",
   "execution_count": 45,
   "metadata": {
    "scrolled": true
   },
   "outputs": [
    {
     "data": {
      "text/html": [
       "<style>#sk-container-id-2 {color: black;}#sk-container-id-2 pre{padding: 0;}#sk-container-id-2 div.sk-toggleable {background-color: white;}#sk-container-id-2 label.sk-toggleable__label {cursor: pointer;display: block;width: 100%;margin-bottom: 0;padding: 0.3em;box-sizing: border-box;text-align: center;}#sk-container-id-2 label.sk-toggleable__label-arrow:before {content: \"▸\";float: left;margin-right: 0.25em;color: #696969;}#sk-container-id-2 label.sk-toggleable__label-arrow:hover:before {color: black;}#sk-container-id-2 div.sk-estimator:hover label.sk-toggleable__label-arrow:before {color: black;}#sk-container-id-2 div.sk-toggleable__content {max-height: 0;max-width: 0;overflow: hidden;text-align: left;background-color: #f0f8ff;}#sk-container-id-2 div.sk-toggleable__content pre {margin: 0.2em;color: black;border-radius: 0.25em;background-color: #f0f8ff;}#sk-container-id-2 input.sk-toggleable__control:checked~div.sk-toggleable__content {max-height: 200px;max-width: 100%;overflow: auto;}#sk-container-id-2 input.sk-toggleable__control:checked~label.sk-toggleable__label-arrow:before {content: \"▾\";}#sk-container-id-2 div.sk-estimator input.sk-toggleable__control:checked~label.sk-toggleable__label {background-color: #d4ebff;}#sk-container-id-2 div.sk-label input.sk-toggleable__control:checked~label.sk-toggleable__label {background-color: #d4ebff;}#sk-container-id-2 input.sk-hidden--visually {border: 0;clip: rect(1px 1px 1px 1px);clip: rect(1px, 1px, 1px, 1px);height: 1px;margin: -1px;overflow: hidden;padding: 0;position: absolute;width: 1px;}#sk-container-id-2 div.sk-estimator {font-family: monospace;background-color: #f0f8ff;border: 1px dotted black;border-radius: 0.25em;box-sizing: border-box;margin-bottom: 0.5em;}#sk-container-id-2 div.sk-estimator:hover {background-color: #d4ebff;}#sk-container-id-2 div.sk-parallel-item::after {content: \"\";width: 100%;border-bottom: 1px solid gray;flex-grow: 1;}#sk-container-id-2 div.sk-label:hover label.sk-toggleable__label {background-color: #d4ebff;}#sk-container-id-2 div.sk-serial::before {content: \"\";position: absolute;border-left: 1px solid gray;box-sizing: border-box;top: 0;bottom: 0;left: 50%;z-index: 0;}#sk-container-id-2 div.sk-serial {display: flex;flex-direction: column;align-items: center;background-color: white;padding-right: 0.2em;padding-left: 0.2em;position: relative;}#sk-container-id-2 div.sk-item {position: relative;z-index: 1;}#sk-container-id-2 div.sk-parallel {display: flex;align-items: stretch;justify-content: center;background-color: white;position: relative;}#sk-container-id-2 div.sk-item::before, #sk-container-id-2 div.sk-parallel-item::before {content: \"\";position: absolute;border-left: 1px solid gray;box-sizing: border-box;top: 0;bottom: 0;left: 50%;z-index: -1;}#sk-container-id-2 div.sk-parallel-item {display: flex;flex-direction: column;z-index: 1;position: relative;background-color: white;}#sk-container-id-2 div.sk-parallel-item:first-child::after {align-self: flex-end;width: 50%;}#sk-container-id-2 div.sk-parallel-item:last-child::after {align-self: flex-start;width: 50%;}#sk-container-id-2 div.sk-parallel-item:only-child::after {width: 0;}#sk-container-id-2 div.sk-dashed-wrapped {border: 1px dashed gray;margin: 0 0.4em 0.5em 0.4em;box-sizing: border-box;padding-bottom: 0.4em;background-color: white;}#sk-container-id-2 div.sk-label label {font-family: monospace;font-weight: bold;display: inline-block;line-height: 1.2em;}#sk-container-id-2 div.sk-label-container {text-align: center;}#sk-container-id-2 div.sk-container {/* jupyter's `normalize.less` sets `[hidden] { display: none; }` but bootstrap.min.css set `[hidden] { display: none !important; }` so we also need the `!important` here to be able to override the default hidden behavior on the sphinx rendered scikit-learn.org. See: https://github.com/scikit-learn/scikit-learn/issues/21755 */display: inline-block !important;position: relative;}#sk-container-id-2 div.sk-text-repr-fallback {display: none;}</style><div id=\"sk-container-id-2\" class=\"sk-top-container\"><div class=\"sk-text-repr-fallback\"><pre>Pipeline(steps=[(&#x27;preprocessor&#x27;,\n",
       "                 ColumnTransformer(transformers=[(&#x27;scaled&#x27;, StandardScaler(),\n",
       "                                                  [&#x27;total_charges&#x27;,\n",
       "                                                   &#x27;total_costs&#x27;]),\n",
       "                                                 (&#x27;ohe&#x27;,\n",
       "                                                  OneHotEncoder(handle_unknown=&#x27;ignore&#x27;,\n",
       "                                                                sparse_output=False),\n",
       "                                                  [&#x27;facility_name&#x27;, &#x27;age_group&#x27;,\n",
       "                                                   &#x27;gender&#x27;, &#x27;race&#x27;,\n",
       "                                                   &#x27;type_of_admission&#x27;,\n",
       "                                                   &#x27;patient_disposition&#x27;,\n",
       "                                                   &#x27;ccs_diagnosis_description&#x27;,\n",
       "                                                   &#x27;ccs_procedure_description&#x27;])])),\n",
       "                (&#x27;pca&#x27;, PCA(n_components=200, random_state=42)),\n",
       "                (&#x27;model&#x27;, LinearRegression())])</pre><b>In a Jupyter environment, please rerun this cell to show the HTML representation or trust the notebook. <br />On GitHub, the HTML representation is unable to render, please try loading this page with nbviewer.org.</b></div><div class=\"sk-container\" hidden><div class=\"sk-item sk-dashed-wrapped\"><div class=\"sk-label-container\"><div class=\"sk-label sk-toggleable\"><input class=\"sk-toggleable__control sk-hidden--visually\" id=\"sk-estimator-id-8\" type=\"checkbox\" ><label for=\"sk-estimator-id-8\" class=\"sk-toggleable__label sk-toggleable__label-arrow\">Pipeline</label><div class=\"sk-toggleable__content\"><pre>Pipeline(steps=[(&#x27;preprocessor&#x27;,\n",
       "                 ColumnTransformer(transformers=[(&#x27;scaled&#x27;, StandardScaler(),\n",
       "                                                  [&#x27;total_charges&#x27;,\n",
       "                                                   &#x27;total_costs&#x27;]),\n",
       "                                                 (&#x27;ohe&#x27;,\n",
       "                                                  OneHotEncoder(handle_unknown=&#x27;ignore&#x27;,\n",
       "                                                                sparse_output=False),\n",
       "                                                  [&#x27;facility_name&#x27;, &#x27;age_group&#x27;,\n",
       "                                                   &#x27;gender&#x27;, &#x27;race&#x27;,\n",
       "                                                   &#x27;type_of_admission&#x27;,\n",
       "                                                   &#x27;patient_disposition&#x27;,\n",
       "                                                   &#x27;ccs_diagnosis_description&#x27;,\n",
       "                                                   &#x27;ccs_procedure_description&#x27;])])),\n",
       "                (&#x27;pca&#x27;, PCA(n_components=200, random_state=42)),\n",
       "                (&#x27;model&#x27;, LinearRegression())])</pre></div></div></div><div class=\"sk-serial\"><div class=\"sk-item sk-dashed-wrapped\"><div class=\"sk-label-container\"><div class=\"sk-label sk-toggleable\"><input class=\"sk-toggleable__control sk-hidden--visually\" id=\"sk-estimator-id-9\" type=\"checkbox\" ><label for=\"sk-estimator-id-9\" class=\"sk-toggleable__label sk-toggleable__label-arrow\">preprocessor: ColumnTransformer</label><div class=\"sk-toggleable__content\"><pre>ColumnTransformer(transformers=[(&#x27;scaled&#x27;, StandardScaler(),\n",
       "                                 [&#x27;total_charges&#x27;, &#x27;total_costs&#x27;]),\n",
       "                                (&#x27;ohe&#x27;,\n",
       "                                 OneHotEncoder(handle_unknown=&#x27;ignore&#x27;,\n",
       "                                               sparse_output=False),\n",
       "                                 [&#x27;facility_name&#x27;, &#x27;age_group&#x27;, &#x27;gender&#x27;,\n",
       "                                  &#x27;race&#x27;, &#x27;type_of_admission&#x27;,\n",
       "                                  &#x27;patient_disposition&#x27;,\n",
       "                                  &#x27;ccs_diagnosis_description&#x27;,\n",
       "                                  &#x27;ccs_procedure_description&#x27;])])</pre></div></div></div><div class=\"sk-parallel\"><div class=\"sk-parallel-item\"><div class=\"sk-item\"><div class=\"sk-label-container\"><div class=\"sk-label sk-toggleable\"><input class=\"sk-toggleable__control sk-hidden--visually\" id=\"sk-estimator-id-10\" type=\"checkbox\" ><label for=\"sk-estimator-id-10\" class=\"sk-toggleable__label sk-toggleable__label-arrow\">scaled</label><div class=\"sk-toggleable__content\"><pre>[&#x27;total_charges&#x27;, &#x27;total_costs&#x27;]</pre></div></div></div><div class=\"sk-serial\"><div class=\"sk-item\"><div class=\"sk-estimator sk-toggleable\"><input class=\"sk-toggleable__control sk-hidden--visually\" id=\"sk-estimator-id-11\" type=\"checkbox\" ><label for=\"sk-estimator-id-11\" class=\"sk-toggleable__label sk-toggleable__label-arrow\">StandardScaler</label><div class=\"sk-toggleable__content\"><pre>StandardScaler()</pre></div></div></div></div></div></div><div class=\"sk-parallel-item\"><div class=\"sk-item\"><div class=\"sk-label-container\"><div class=\"sk-label sk-toggleable\"><input class=\"sk-toggleable__control sk-hidden--visually\" id=\"sk-estimator-id-12\" type=\"checkbox\" ><label for=\"sk-estimator-id-12\" class=\"sk-toggleable__label sk-toggleable__label-arrow\">ohe</label><div class=\"sk-toggleable__content\"><pre>[&#x27;facility_name&#x27;, &#x27;age_group&#x27;, &#x27;gender&#x27;, &#x27;race&#x27;, &#x27;type_of_admission&#x27;, &#x27;patient_disposition&#x27;, &#x27;ccs_diagnosis_description&#x27;, &#x27;ccs_procedure_description&#x27;]</pre></div></div></div><div class=\"sk-serial\"><div class=\"sk-item\"><div class=\"sk-estimator sk-toggleable\"><input class=\"sk-toggleable__control sk-hidden--visually\" id=\"sk-estimator-id-13\" type=\"checkbox\" ><label for=\"sk-estimator-id-13\" class=\"sk-toggleable__label sk-toggleable__label-arrow\">OneHotEncoder</label><div class=\"sk-toggleable__content\"><pre>OneHotEncoder(handle_unknown=&#x27;ignore&#x27;, sparse_output=False)</pre></div></div></div></div></div></div></div></div><div class=\"sk-item\"><div class=\"sk-estimator sk-toggleable\"><input class=\"sk-toggleable__control sk-hidden--visually\" id=\"sk-estimator-id-14\" type=\"checkbox\" ><label for=\"sk-estimator-id-14\" class=\"sk-toggleable__label sk-toggleable__label-arrow\">PCA</label><div class=\"sk-toggleable__content\"><pre>PCA(n_components=200, random_state=42)</pre></div></div></div><div class=\"sk-item\"><div class=\"sk-estimator sk-toggleable\"><input class=\"sk-toggleable__control sk-hidden--visually\" id=\"sk-estimator-id-15\" type=\"checkbox\" ><label for=\"sk-estimator-id-15\" class=\"sk-toggleable__label sk-toggleable__label-arrow\">LinearRegression</label><div class=\"sk-toggleable__content\"><pre>LinearRegression()</pre></div></div></div></div></div></div></div>"
      ],
      "text/plain": [
       "Pipeline(steps=[('preprocessor',\n",
       "                 ColumnTransformer(transformers=[('scaled', StandardScaler(),\n",
       "                                                  ['total_charges',\n",
       "                                                   'total_costs']),\n",
       "                                                 ('ohe',\n",
       "                                                  OneHotEncoder(handle_unknown='ignore',\n",
       "                                                                sparse_output=False),\n",
       "                                                  ['facility_name', 'age_group',\n",
       "                                                   'gender', 'race',\n",
       "                                                   'type_of_admission',\n",
       "                                                   'patient_disposition',\n",
       "                                                   'ccs_diagnosis_description',\n",
       "                                                   'ccs_procedure_description'])])),\n",
       "                ('pca', PCA(n_components=200, random_state=42)),\n",
       "                ('model', LinearRegression())])"
      ]
     },
     "execution_count": 45,
     "metadata": {},
     "output_type": "execute_result"
    }
   ],
   "source": [
    "linreg_pipeline.fit(X_train, y_train)"
   ]
  },
  {
   "cell_type": "code",
   "execution_count": 46,
   "metadata": {},
   "outputs": [],
   "source": [
    "linreg_r2 = cross_validate(linreg_pipeline, X_train, y_train, scoring=\"r2\", return_train_score=True)\n",
    "linreg_rmse = cross_validate(linreg_pipeline, X_train, y_train, scoring=\"neg_root_mean_squared_error\", \n",
    "                             return_train_score=True)"
   ]
  },
  {
   "cell_type": "code",
   "execution_count": 47,
   "metadata": {
    "scrolled": true
   },
   "outputs": [
    {
     "name": "stdout",
     "output_type": "stream",
     "text": [
      "Linear Regression X_train cross validation scores:\n",
      "\n",
      "\n",
      "r2 scores - \n",
      "Average Train Score: 0.7362132008915957\n",
      "Average Test Score: 0.7344615996332126\n",
      "\n",
      "\n",
      "rmse scores -\n",
      "Average Train Score: -4.417073800672273\n",
      "Average Test Score: -4.430522230828528\n"
     ]
    }
   ],
   "source": [
    "metrics_cv(linreg_r2,linreg_rmse, 'Linear Regression', 'X_train')"
   ]
  },
  {
   "cell_type": "markdown",
   "metadata": {},
   "source": [
    "#### Decision Tree Regression"
   ]
  },
  {
   "cell_type": "code",
   "execution_count": 48,
   "metadata": {},
   "outputs": [],
   "source": [
    "tree_pipeline = Pipeline(steps=[('preprocessor', preprocessor),\n",
    "                              ('pca', PCA(n_components= 300,random_state=42)),\n",
    "                              ('model', DecisionTreeRegressor(random_state=42))\n",
    "                             ])"
   ]
  },
  {
   "cell_type": "code",
   "execution_count": 49,
   "metadata": {},
   "outputs": [
    {
     "data": {
      "text/html": [
       "<style>#sk-container-id-3 {color: black;}#sk-container-id-3 pre{padding: 0;}#sk-container-id-3 div.sk-toggleable {background-color: white;}#sk-container-id-3 label.sk-toggleable__label {cursor: pointer;display: block;width: 100%;margin-bottom: 0;padding: 0.3em;box-sizing: border-box;text-align: center;}#sk-container-id-3 label.sk-toggleable__label-arrow:before {content: \"▸\";float: left;margin-right: 0.25em;color: #696969;}#sk-container-id-3 label.sk-toggleable__label-arrow:hover:before {color: black;}#sk-container-id-3 div.sk-estimator:hover label.sk-toggleable__label-arrow:before {color: black;}#sk-container-id-3 div.sk-toggleable__content {max-height: 0;max-width: 0;overflow: hidden;text-align: left;background-color: #f0f8ff;}#sk-container-id-3 div.sk-toggleable__content pre {margin: 0.2em;color: black;border-radius: 0.25em;background-color: #f0f8ff;}#sk-container-id-3 input.sk-toggleable__control:checked~div.sk-toggleable__content {max-height: 200px;max-width: 100%;overflow: auto;}#sk-container-id-3 input.sk-toggleable__control:checked~label.sk-toggleable__label-arrow:before {content: \"▾\";}#sk-container-id-3 div.sk-estimator input.sk-toggleable__control:checked~label.sk-toggleable__label {background-color: #d4ebff;}#sk-container-id-3 div.sk-label input.sk-toggleable__control:checked~label.sk-toggleable__label {background-color: #d4ebff;}#sk-container-id-3 input.sk-hidden--visually {border: 0;clip: rect(1px 1px 1px 1px);clip: rect(1px, 1px, 1px, 1px);height: 1px;margin: -1px;overflow: hidden;padding: 0;position: absolute;width: 1px;}#sk-container-id-3 div.sk-estimator {font-family: monospace;background-color: #f0f8ff;border: 1px dotted black;border-radius: 0.25em;box-sizing: border-box;margin-bottom: 0.5em;}#sk-container-id-3 div.sk-estimator:hover {background-color: #d4ebff;}#sk-container-id-3 div.sk-parallel-item::after {content: \"\";width: 100%;border-bottom: 1px solid gray;flex-grow: 1;}#sk-container-id-3 div.sk-label:hover label.sk-toggleable__label {background-color: #d4ebff;}#sk-container-id-3 div.sk-serial::before {content: \"\";position: absolute;border-left: 1px solid gray;box-sizing: border-box;top: 0;bottom: 0;left: 50%;z-index: 0;}#sk-container-id-3 div.sk-serial {display: flex;flex-direction: column;align-items: center;background-color: white;padding-right: 0.2em;padding-left: 0.2em;position: relative;}#sk-container-id-3 div.sk-item {position: relative;z-index: 1;}#sk-container-id-3 div.sk-parallel {display: flex;align-items: stretch;justify-content: center;background-color: white;position: relative;}#sk-container-id-3 div.sk-item::before, #sk-container-id-3 div.sk-parallel-item::before {content: \"\";position: absolute;border-left: 1px solid gray;box-sizing: border-box;top: 0;bottom: 0;left: 50%;z-index: -1;}#sk-container-id-3 div.sk-parallel-item {display: flex;flex-direction: column;z-index: 1;position: relative;background-color: white;}#sk-container-id-3 div.sk-parallel-item:first-child::after {align-self: flex-end;width: 50%;}#sk-container-id-3 div.sk-parallel-item:last-child::after {align-self: flex-start;width: 50%;}#sk-container-id-3 div.sk-parallel-item:only-child::after {width: 0;}#sk-container-id-3 div.sk-dashed-wrapped {border: 1px dashed gray;margin: 0 0.4em 0.5em 0.4em;box-sizing: border-box;padding-bottom: 0.4em;background-color: white;}#sk-container-id-3 div.sk-label label {font-family: monospace;font-weight: bold;display: inline-block;line-height: 1.2em;}#sk-container-id-3 div.sk-label-container {text-align: center;}#sk-container-id-3 div.sk-container {/* jupyter's `normalize.less` sets `[hidden] { display: none; }` but bootstrap.min.css set `[hidden] { display: none !important; }` so we also need the `!important` here to be able to override the default hidden behavior on the sphinx rendered scikit-learn.org. See: https://github.com/scikit-learn/scikit-learn/issues/21755 */display: inline-block !important;position: relative;}#sk-container-id-3 div.sk-text-repr-fallback {display: none;}</style><div id=\"sk-container-id-3\" class=\"sk-top-container\"><div class=\"sk-text-repr-fallback\"><pre>Pipeline(steps=[(&#x27;preprocessor&#x27;,\n",
       "                 ColumnTransformer(transformers=[(&#x27;scaled&#x27;, StandardScaler(),\n",
       "                                                  [&#x27;total_charges&#x27;,\n",
       "                                                   &#x27;total_costs&#x27;]),\n",
       "                                                 (&#x27;ohe&#x27;,\n",
       "                                                  OneHotEncoder(handle_unknown=&#x27;ignore&#x27;,\n",
       "                                                                sparse_output=False),\n",
       "                                                  [&#x27;facility_name&#x27;, &#x27;age_group&#x27;,\n",
       "                                                   &#x27;gender&#x27;, &#x27;race&#x27;,\n",
       "                                                   &#x27;type_of_admission&#x27;,\n",
       "                                                   &#x27;patient_disposition&#x27;,\n",
       "                                                   &#x27;ccs_diagnosis_description&#x27;,\n",
       "                                                   &#x27;ccs_procedure_description&#x27;])])),\n",
       "                (&#x27;pca&#x27;, PCA(n_components=300, random_state=42)),\n",
       "                (&#x27;model&#x27;, DecisionTreeRegressor(random_state=42))])</pre><b>In a Jupyter environment, please rerun this cell to show the HTML representation or trust the notebook. <br />On GitHub, the HTML representation is unable to render, please try loading this page with nbviewer.org.</b></div><div class=\"sk-container\" hidden><div class=\"sk-item sk-dashed-wrapped\"><div class=\"sk-label-container\"><div class=\"sk-label sk-toggleable\"><input class=\"sk-toggleable__control sk-hidden--visually\" id=\"sk-estimator-id-16\" type=\"checkbox\" ><label for=\"sk-estimator-id-16\" class=\"sk-toggleable__label sk-toggleable__label-arrow\">Pipeline</label><div class=\"sk-toggleable__content\"><pre>Pipeline(steps=[(&#x27;preprocessor&#x27;,\n",
       "                 ColumnTransformer(transformers=[(&#x27;scaled&#x27;, StandardScaler(),\n",
       "                                                  [&#x27;total_charges&#x27;,\n",
       "                                                   &#x27;total_costs&#x27;]),\n",
       "                                                 (&#x27;ohe&#x27;,\n",
       "                                                  OneHotEncoder(handle_unknown=&#x27;ignore&#x27;,\n",
       "                                                                sparse_output=False),\n",
       "                                                  [&#x27;facility_name&#x27;, &#x27;age_group&#x27;,\n",
       "                                                   &#x27;gender&#x27;, &#x27;race&#x27;,\n",
       "                                                   &#x27;type_of_admission&#x27;,\n",
       "                                                   &#x27;patient_disposition&#x27;,\n",
       "                                                   &#x27;ccs_diagnosis_description&#x27;,\n",
       "                                                   &#x27;ccs_procedure_description&#x27;])])),\n",
       "                (&#x27;pca&#x27;, PCA(n_components=300, random_state=42)),\n",
       "                (&#x27;model&#x27;, DecisionTreeRegressor(random_state=42))])</pre></div></div></div><div class=\"sk-serial\"><div class=\"sk-item sk-dashed-wrapped\"><div class=\"sk-label-container\"><div class=\"sk-label sk-toggleable\"><input class=\"sk-toggleable__control sk-hidden--visually\" id=\"sk-estimator-id-17\" type=\"checkbox\" ><label for=\"sk-estimator-id-17\" class=\"sk-toggleable__label sk-toggleable__label-arrow\">preprocessor: ColumnTransformer</label><div class=\"sk-toggleable__content\"><pre>ColumnTransformer(transformers=[(&#x27;scaled&#x27;, StandardScaler(),\n",
       "                                 [&#x27;total_charges&#x27;, &#x27;total_costs&#x27;]),\n",
       "                                (&#x27;ohe&#x27;,\n",
       "                                 OneHotEncoder(handle_unknown=&#x27;ignore&#x27;,\n",
       "                                               sparse_output=False),\n",
       "                                 [&#x27;facility_name&#x27;, &#x27;age_group&#x27;, &#x27;gender&#x27;,\n",
       "                                  &#x27;race&#x27;, &#x27;type_of_admission&#x27;,\n",
       "                                  &#x27;patient_disposition&#x27;,\n",
       "                                  &#x27;ccs_diagnosis_description&#x27;,\n",
       "                                  &#x27;ccs_procedure_description&#x27;])])</pre></div></div></div><div class=\"sk-parallel\"><div class=\"sk-parallel-item\"><div class=\"sk-item\"><div class=\"sk-label-container\"><div class=\"sk-label sk-toggleable\"><input class=\"sk-toggleable__control sk-hidden--visually\" id=\"sk-estimator-id-18\" type=\"checkbox\" ><label for=\"sk-estimator-id-18\" class=\"sk-toggleable__label sk-toggleable__label-arrow\">scaled</label><div class=\"sk-toggleable__content\"><pre>[&#x27;total_charges&#x27;, &#x27;total_costs&#x27;]</pre></div></div></div><div class=\"sk-serial\"><div class=\"sk-item\"><div class=\"sk-estimator sk-toggleable\"><input class=\"sk-toggleable__control sk-hidden--visually\" id=\"sk-estimator-id-19\" type=\"checkbox\" ><label for=\"sk-estimator-id-19\" class=\"sk-toggleable__label sk-toggleable__label-arrow\">StandardScaler</label><div class=\"sk-toggleable__content\"><pre>StandardScaler()</pre></div></div></div></div></div></div><div class=\"sk-parallel-item\"><div class=\"sk-item\"><div class=\"sk-label-container\"><div class=\"sk-label sk-toggleable\"><input class=\"sk-toggleable__control sk-hidden--visually\" id=\"sk-estimator-id-20\" type=\"checkbox\" ><label for=\"sk-estimator-id-20\" class=\"sk-toggleable__label sk-toggleable__label-arrow\">ohe</label><div class=\"sk-toggleable__content\"><pre>[&#x27;facility_name&#x27;, &#x27;age_group&#x27;, &#x27;gender&#x27;, &#x27;race&#x27;, &#x27;type_of_admission&#x27;, &#x27;patient_disposition&#x27;, &#x27;ccs_diagnosis_description&#x27;, &#x27;ccs_procedure_description&#x27;]</pre></div></div></div><div class=\"sk-serial\"><div class=\"sk-item\"><div class=\"sk-estimator sk-toggleable\"><input class=\"sk-toggleable__control sk-hidden--visually\" id=\"sk-estimator-id-21\" type=\"checkbox\" ><label for=\"sk-estimator-id-21\" class=\"sk-toggleable__label sk-toggleable__label-arrow\">OneHotEncoder</label><div class=\"sk-toggleable__content\"><pre>OneHotEncoder(handle_unknown=&#x27;ignore&#x27;, sparse_output=False)</pre></div></div></div></div></div></div></div></div><div class=\"sk-item\"><div class=\"sk-estimator sk-toggleable\"><input class=\"sk-toggleable__control sk-hidden--visually\" id=\"sk-estimator-id-22\" type=\"checkbox\" ><label for=\"sk-estimator-id-22\" class=\"sk-toggleable__label sk-toggleable__label-arrow\">PCA</label><div class=\"sk-toggleable__content\"><pre>PCA(n_components=300, random_state=42)</pre></div></div></div><div class=\"sk-item\"><div class=\"sk-estimator sk-toggleable\"><input class=\"sk-toggleable__control sk-hidden--visually\" id=\"sk-estimator-id-23\" type=\"checkbox\" ><label for=\"sk-estimator-id-23\" class=\"sk-toggleable__label sk-toggleable__label-arrow\">DecisionTreeRegressor</label><div class=\"sk-toggleable__content\"><pre>DecisionTreeRegressor(random_state=42)</pre></div></div></div></div></div></div></div>"
      ],
      "text/plain": [
       "Pipeline(steps=[('preprocessor',\n",
       "                 ColumnTransformer(transformers=[('scaled', StandardScaler(),\n",
       "                                                  ['total_charges',\n",
       "                                                   'total_costs']),\n",
       "                                                 ('ohe',\n",
       "                                                  OneHotEncoder(handle_unknown='ignore',\n",
       "                                                                sparse_output=False),\n",
       "                                                  ['facility_name', 'age_group',\n",
       "                                                   'gender', 'race',\n",
       "                                                   'type_of_admission',\n",
       "                                                   'patient_disposition',\n",
       "                                                   'ccs_diagnosis_description',\n",
       "                                                   'ccs_procedure_description'])])),\n",
       "                ('pca', PCA(n_components=300, random_state=42)),\n",
       "                ('model', DecisionTreeRegressor(random_state=42))])"
      ]
     },
     "execution_count": 49,
     "metadata": {},
     "output_type": "execute_result"
    }
   ],
   "source": [
    "tree_pipeline.fit(X_train, y_train)"
   ]
  },
  {
   "cell_type": "code",
   "execution_count": 50,
   "metadata": {},
   "outputs": [],
   "source": [
    "tree_r2 = cross_validate(tree_pipeline, X_train, y_train, scoring=\"r2\", return_train_score=True)\n",
    "tree_rmse = cross_validate(tree_pipeline, X_train, y_train, scoring=\"neg_root_mean_squared_error\", \n",
    "                           return_train_score=True)"
   ]
  },
  {
   "cell_type": "code",
   "execution_count": 51,
   "metadata": {},
   "outputs": [
    {
     "name": "stdout",
     "output_type": "stream",
     "text": [
      "Decision Tree Regression X_train cross validation scores:\n",
      "\n",
      "\n",
      "r2 scores - \n",
      "Average Train Score: 0.993000438935335\n",
      "Average Test Score: 0.838477663297611\n",
      "\n",
      "\n",
      "rmse scores -\n",
      "Average Train Score: -0.7154957288408398\n",
      "Average Test Score: -3.4517655600528334\n"
     ]
    }
   ],
   "source": [
    "metrics_cv(tree_r2, tree_rmse, 'Decision Tree Regression', 'X_train')"
   ]
  },
  {
   "cell_type": "markdown",
   "metadata": {},
   "source": [
    "#### Linear SVR "
   ]
  },
  {
   "cell_type": "code",
   "execution_count": 52,
   "metadata": {},
   "outputs": [],
   "source": [
    "svr_pipeline = Pipeline(steps=[('preprocessor', preprocessor),\n",
    "                              ('pca', PCA(n_components= 300)),\n",
    "                              ('model', LinearSVR(random_state=0, tol=1e-5))\n",
    "                             ])"
   ]
  },
  {
   "cell_type": "code",
   "execution_count": 53,
   "metadata": {},
   "outputs": [
    {
     "data": {
      "text/html": [
       "<style>#sk-container-id-4 {color: black;}#sk-container-id-4 pre{padding: 0;}#sk-container-id-4 div.sk-toggleable {background-color: white;}#sk-container-id-4 label.sk-toggleable__label {cursor: pointer;display: block;width: 100%;margin-bottom: 0;padding: 0.3em;box-sizing: border-box;text-align: center;}#sk-container-id-4 label.sk-toggleable__label-arrow:before {content: \"▸\";float: left;margin-right: 0.25em;color: #696969;}#sk-container-id-4 label.sk-toggleable__label-arrow:hover:before {color: black;}#sk-container-id-4 div.sk-estimator:hover label.sk-toggleable__label-arrow:before {color: black;}#sk-container-id-4 div.sk-toggleable__content {max-height: 0;max-width: 0;overflow: hidden;text-align: left;background-color: #f0f8ff;}#sk-container-id-4 div.sk-toggleable__content pre {margin: 0.2em;color: black;border-radius: 0.25em;background-color: #f0f8ff;}#sk-container-id-4 input.sk-toggleable__control:checked~div.sk-toggleable__content {max-height: 200px;max-width: 100%;overflow: auto;}#sk-container-id-4 input.sk-toggleable__control:checked~label.sk-toggleable__label-arrow:before {content: \"▾\";}#sk-container-id-4 div.sk-estimator input.sk-toggleable__control:checked~label.sk-toggleable__label {background-color: #d4ebff;}#sk-container-id-4 div.sk-label input.sk-toggleable__control:checked~label.sk-toggleable__label {background-color: #d4ebff;}#sk-container-id-4 input.sk-hidden--visually {border: 0;clip: rect(1px 1px 1px 1px);clip: rect(1px, 1px, 1px, 1px);height: 1px;margin: -1px;overflow: hidden;padding: 0;position: absolute;width: 1px;}#sk-container-id-4 div.sk-estimator {font-family: monospace;background-color: #f0f8ff;border: 1px dotted black;border-radius: 0.25em;box-sizing: border-box;margin-bottom: 0.5em;}#sk-container-id-4 div.sk-estimator:hover {background-color: #d4ebff;}#sk-container-id-4 div.sk-parallel-item::after {content: \"\";width: 100%;border-bottom: 1px solid gray;flex-grow: 1;}#sk-container-id-4 div.sk-label:hover label.sk-toggleable__label {background-color: #d4ebff;}#sk-container-id-4 div.sk-serial::before {content: \"\";position: absolute;border-left: 1px solid gray;box-sizing: border-box;top: 0;bottom: 0;left: 50%;z-index: 0;}#sk-container-id-4 div.sk-serial {display: flex;flex-direction: column;align-items: center;background-color: white;padding-right: 0.2em;padding-left: 0.2em;position: relative;}#sk-container-id-4 div.sk-item {position: relative;z-index: 1;}#sk-container-id-4 div.sk-parallel {display: flex;align-items: stretch;justify-content: center;background-color: white;position: relative;}#sk-container-id-4 div.sk-item::before, #sk-container-id-4 div.sk-parallel-item::before {content: \"\";position: absolute;border-left: 1px solid gray;box-sizing: border-box;top: 0;bottom: 0;left: 50%;z-index: -1;}#sk-container-id-4 div.sk-parallel-item {display: flex;flex-direction: column;z-index: 1;position: relative;background-color: white;}#sk-container-id-4 div.sk-parallel-item:first-child::after {align-self: flex-end;width: 50%;}#sk-container-id-4 div.sk-parallel-item:last-child::after {align-self: flex-start;width: 50%;}#sk-container-id-4 div.sk-parallel-item:only-child::after {width: 0;}#sk-container-id-4 div.sk-dashed-wrapped {border: 1px dashed gray;margin: 0 0.4em 0.5em 0.4em;box-sizing: border-box;padding-bottom: 0.4em;background-color: white;}#sk-container-id-4 div.sk-label label {font-family: monospace;font-weight: bold;display: inline-block;line-height: 1.2em;}#sk-container-id-4 div.sk-label-container {text-align: center;}#sk-container-id-4 div.sk-container {/* jupyter's `normalize.less` sets `[hidden] { display: none; }` but bootstrap.min.css set `[hidden] { display: none !important; }` so we also need the `!important` here to be able to override the default hidden behavior on the sphinx rendered scikit-learn.org. See: https://github.com/scikit-learn/scikit-learn/issues/21755 */display: inline-block !important;position: relative;}#sk-container-id-4 div.sk-text-repr-fallback {display: none;}</style><div id=\"sk-container-id-4\" class=\"sk-top-container\"><div class=\"sk-text-repr-fallback\"><pre>Pipeline(steps=[(&#x27;preprocessor&#x27;,\n",
       "                 ColumnTransformer(transformers=[(&#x27;scaled&#x27;, StandardScaler(),\n",
       "                                                  [&#x27;total_charges&#x27;,\n",
       "                                                   &#x27;total_costs&#x27;]),\n",
       "                                                 (&#x27;ohe&#x27;,\n",
       "                                                  OneHotEncoder(handle_unknown=&#x27;ignore&#x27;,\n",
       "                                                                sparse_output=False),\n",
       "                                                  [&#x27;facility_name&#x27;, &#x27;age_group&#x27;,\n",
       "                                                   &#x27;gender&#x27;, &#x27;race&#x27;,\n",
       "                                                   &#x27;type_of_admission&#x27;,\n",
       "                                                   &#x27;patient_disposition&#x27;,\n",
       "                                                   &#x27;ccs_diagnosis_description&#x27;,\n",
       "                                                   &#x27;ccs_procedure_description&#x27;])])),\n",
       "                (&#x27;pca&#x27;, PCA(n_components=300)),\n",
       "                (&#x27;model&#x27;, LinearSVR(random_state=0, tol=1e-05))])</pre><b>In a Jupyter environment, please rerun this cell to show the HTML representation or trust the notebook. <br />On GitHub, the HTML representation is unable to render, please try loading this page with nbviewer.org.</b></div><div class=\"sk-container\" hidden><div class=\"sk-item sk-dashed-wrapped\"><div class=\"sk-label-container\"><div class=\"sk-label sk-toggleable\"><input class=\"sk-toggleable__control sk-hidden--visually\" id=\"sk-estimator-id-24\" type=\"checkbox\" ><label for=\"sk-estimator-id-24\" class=\"sk-toggleable__label sk-toggleable__label-arrow\">Pipeline</label><div class=\"sk-toggleable__content\"><pre>Pipeline(steps=[(&#x27;preprocessor&#x27;,\n",
       "                 ColumnTransformer(transformers=[(&#x27;scaled&#x27;, StandardScaler(),\n",
       "                                                  [&#x27;total_charges&#x27;,\n",
       "                                                   &#x27;total_costs&#x27;]),\n",
       "                                                 (&#x27;ohe&#x27;,\n",
       "                                                  OneHotEncoder(handle_unknown=&#x27;ignore&#x27;,\n",
       "                                                                sparse_output=False),\n",
       "                                                  [&#x27;facility_name&#x27;, &#x27;age_group&#x27;,\n",
       "                                                   &#x27;gender&#x27;, &#x27;race&#x27;,\n",
       "                                                   &#x27;type_of_admission&#x27;,\n",
       "                                                   &#x27;patient_disposition&#x27;,\n",
       "                                                   &#x27;ccs_diagnosis_description&#x27;,\n",
       "                                                   &#x27;ccs_procedure_description&#x27;])])),\n",
       "                (&#x27;pca&#x27;, PCA(n_components=300)),\n",
       "                (&#x27;model&#x27;, LinearSVR(random_state=0, tol=1e-05))])</pre></div></div></div><div class=\"sk-serial\"><div class=\"sk-item sk-dashed-wrapped\"><div class=\"sk-label-container\"><div class=\"sk-label sk-toggleable\"><input class=\"sk-toggleable__control sk-hidden--visually\" id=\"sk-estimator-id-25\" type=\"checkbox\" ><label for=\"sk-estimator-id-25\" class=\"sk-toggleable__label sk-toggleable__label-arrow\">preprocessor: ColumnTransformer</label><div class=\"sk-toggleable__content\"><pre>ColumnTransformer(transformers=[(&#x27;scaled&#x27;, StandardScaler(),\n",
       "                                 [&#x27;total_charges&#x27;, &#x27;total_costs&#x27;]),\n",
       "                                (&#x27;ohe&#x27;,\n",
       "                                 OneHotEncoder(handle_unknown=&#x27;ignore&#x27;,\n",
       "                                               sparse_output=False),\n",
       "                                 [&#x27;facility_name&#x27;, &#x27;age_group&#x27;, &#x27;gender&#x27;,\n",
       "                                  &#x27;race&#x27;, &#x27;type_of_admission&#x27;,\n",
       "                                  &#x27;patient_disposition&#x27;,\n",
       "                                  &#x27;ccs_diagnosis_description&#x27;,\n",
       "                                  &#x27;ccs_procedure_description&#x27;])])</pre></div></div></div><div class=\"sk-parallel\"><div class=\"sk-parallel-item\"><div class=\"sk-item\"><div class=\"sk-label-container\"><div class=\"sk-label sk-toggleable\"><input class=\"sk-toggleable__control sk-hidden--visually\" id=\"sk-estimator-id-26\" type=\"checkbox\" ><label for=\"sk-estimator-id-26\" class=\"sk-toggleable__label sk-toggleable__label-arrow\">scaled</label><div class=\"sk-toggleable__content\"><pre>[&#x27;total_charges&#x27;, &#x27;total_costs&#x27;]</pre></div></div></div><div class=\"sk-serial\"><div class=\"sk-item\"><div class=\"sk-estimator sk-toggleable\"><input class=\"sk-toggleable__control sk-hidden--visually\" id=\"sk-estimator-id-27\" type=\"checkbox\" ><label for=\"sk-estimator-id-27\" class=\"sk-toggleable__label sk-toggleable__label-arrow\">StandardScaler</label><div class=\"sk-toggleable__content\"><pre>StandardScaler()</pre></div></div></div></div></div></div><div class=\"sk-parallel-item\"><div class=\"sk-item\"><div class=\"sk-label-container\"><div class=\"sk-label sk-toggleable\"><input class=\"sk-toggleable__control sk-hidden--visually\" id=\"sk-estimator-id-28\" type=\"checkbox\" ><label for=\"sk-estimator-id-28\" class=\"sk-toggleable__label sk-toggleable__label-arrow\">ohe</label><div class=\"sk-toggleable__content\"><pre>[&#x27;facility_name&#x27;, &#x27;age_group&#x27;, &#x27;gender&#x27;, &#x27;race&#x27;, &#x27;type_of_admission&#x27;, &#x27;patient_disposition&#x27;, &#x27;ccs_diagnosis_description&#x27;, &#x27;ccs_procedure_description&#x27;]</pre></div></div></div><div class=\"sk-serial\"><div class=\"sk-item\"><div class=\"sk-estimator sk-toggleable\"><input class=\"sk-toggleable__control sk-hidden--visually\" id=\"sk-estimator-id-29\" type=\"checkbox\" ><label for=\"sk-estimator-id-29\" class=\"sk-toggleable__label sk-toggleable__label-arrow\">OneHotEncoder</label><div class=\"sk-toggleable__content\"><pre>OneHotEncoder(handle_unknown=&#x27;ignore&#x27;, sparse_output=False)</pre></div></div></div></div></div></div></div></div><div class=\"sk-item\"><div class=\"sk-estimator sk-toggleable\"><input class=\"sk-toggleable__control sk-hidden--visually\" id=\"sk-estimator-id-30\" type=\"checkbox\" ><label for=\"sk-estimator-id-30\" class=\"sk-toggleable__label sk-toggleable__label-arrow\">PCA</label><div class=\"sk-toggleable__content\"><pre>PCA(n_components=300)</pre></div></div></div><div class=\"sk-item\"><div class=\"sk-estimator sk-toggleable\"><input class=\"sk-toggleable__control sk-hidden--visually\" id=\"sk-estimator-id-31\" type=\"checkbox\" ><label for=\"sk-estimator-id-31\" class=\"sk-toggleable__label sk-toggleable__label-arrow\">LinearSVR</label><div class=\"sk-toggleable__content\"><pre>LinearSVR(random_state=0, tol=1e-05)</pre></div></div></div></div></div></div></div>"
      ],
      "text/plain": [
       "Pipeline(steps=[('preprocessor',\n",
       "                 ColumnTransformer(transformers=[('scaled', StandardScaler(),\n",
       "                                                  ['total_charges',\n",
       "                                                   'total_costs']),\n",
       "                                                 ('ohe',\n",
       "                                                  OneHotEncoder(handle_unknown='ignore',\n",
       "                                                                sparse_output=False),\n",
       "                                                  ['facility_name', 'age_group',\n",
       "                                                   'gender', 'race',\n",
       "                                                   'type_of_admission',\n",
       "                                                   'patient_disposition',\n",
       "                                                   'ccs_diagnosis_description',\n",
       "                                                   'ccs_procedure_description'])])),\n",
       "                ('pca', PCA(n_components=300)),\n",
       "                ('model', LinearSVR(random_state=0, tol=1e-05))])"
      ]
     },
     "execution_count": 53,
     "metadata": {},
     "output_type": "execute_result"
    }
   ],
   "source": [
    "svr_pipeline.fit(X_train, y_train)"
   ]
  },
  {
   "cell_type": "code",
   "execution_count": 54,
   "metadata": {},
   "outputs": [],
   "source": [
    "svr_r2 = cross_validate(svr_pipeline, X_train, y_train, scoring=\"r2\", return_train_score=True)\n",
    "svr_rmse = cross_validate(svr_pipeline, X_train, y_train, scoring=\"neg_root_mean_squared_error\", \n",
    "                          return_train_score=True)"
   ]
  },
  {
   "cell_type": "code",
   "execution_count": 55,
   "metadata": {},
   "outputs": [
    {
     "name": "stdout",
     "output_type": "stream",
     "text": [
      "Linear SVR Regression X_train cross validation scores:\n",
      "\n",
      "\n",
      "r2 scores - \n",
      "Average Train Score: 0.7032291284166808\n",
      "Average Test Score: 0.7028874703886799\n",
      "\n",
      "\n",
      "rmse scores -\n",
      "Average Train Score: -4.685776176778594\n",
      "Average Test Score: -4.684362102384223\n"
     ]
    }
   ],
   "source": [
    "metrics_cv(svr_r2,svr_rmse, 'Linear SVR Regression', 'X_train')"
   ]
  },
  {
   "cell_type": "markdown",
   "metadata": {},
   "source": [
    "### Tuning Linear SVR with Grid Search"
   ]
  },
  {
   "cell_type": "code",
   "execution_count": 56,
   "metadata": {},
   "outputs": [],
   "source": [
    "param_space = {'model__loss':['squared_epsilon_insensitive'], #['epsilon_insensitive']\n",
    "               'model__epsilon': [0.1], #[0.5, 1]\n",
    "               'model__max_iter': [100], #[500,1000]\n",
    "               'model__C': [0.1] #[1, 10]\n",
    "               }"
   ]
  },
  {
   "cell_type": "code",
   "execution_count": 57,
   "metadata": {},
   "outputs": [],
   "source": [
    "grid_search = GridSearchCV(svr_pipeline, param_space, scoring=['r2','neg_root_mean_squared_error'], \n",
    "                           refit='r2', cv=3)"
   ]
  },
  {
   "cell_type": "code",
   "execution_count": 58,
   "metadata": {},
   "outputs": [
    {
     "data": {
      "text/html": [
       "<style>#sk-container-id-5 {color: black;}#sk-container-id-5 pre{padding: 0;}#sk-container-id-5 div.sk-toggleable {background-color: white;}#sk-container-id-5 label.sk-toggleable__label {cursor: pointer;display: block;width: 100%;margin-bottom: 0;padding: 0.3em;box-sizing: border-box;text-align: center;}#sk-container-id-5 label.sk-toggleable__label-arrow:before {content: \"▸\";float: left;margin-right: 0.25em;color: #696969;}#sk-container-id-5 label.sk-toggleable__label-arrow:hover:before {color: black;}#sk-container-id-5 div.sk-estimator:hover label.sk-toggleable__label-arrow:before {color: black;}#sk-container-id-5 div.sk-toggleable__content {max-height: 0;max-width: 0;overflow: hidden;text-align: left;background-color: #f0f8ff;}#sk-container-id-5 div.sk-toggleable__content pre {margin: 0.2em;color: black;border-radius: 0.25em;background-color: #f0f8ff;}#sk-container-id-5 input.sk-toggleable__control:checked~div.sk-toggleable__content {max-height: 200px;max-width: 100%;overflow: auto;}#sk-container-id-5 input.sk-toggleable__control:checked~label.sk-toggleable__label-arrow:before {content: \"▾\";}#sk-container-id-5 div.sk-estimator input.sk-toggleable__control:checked~label.sk-toggleable__label {background-color: #d4ebff;}#sk-container-id-5 div.sk-label input.sk-toggleable__control:checked~label.sk-toggleable__label {background-color: #d4ebff;}#sk-container-id-5 input.sk-hidden--visually {border: 0;clip: rect(1px 1px 1px 1px);clip: rect(1px, 1px, 1px, 1px);height: 1px;margin: -1px;overflow: hidden;padding: 0;position: absolute;width: 1px;}#sk-container-id-5 div.sk-estimator {font-family: monospace;background-color: #f0f8ff;border: 1px dotted black;border-radius: 0.25em;box-sizing: border-box;margin-bottom: 0.5em;}#sk-container-id-5 div.sk-estimator:hover {background-color: #d4ebff;}#sk-container-id-5 div.sk-parallel-item::after {content: \"\";width: 100%;border-bottom: 1px solid gray;flex-grow: 1;}#sk-container-id-5 div.sk-label:hover label.sk-toggleable__label {background-color: #d4ebff;}#sk-container-id-5 div.sk-serial::before {content: \"\";position: absolute;border-left: 1px solid gray;box-sizing: border-box;top: 0;bottom: 0;left: 50%;z-index: 0;}#sk-container-id-5 div.sk-serial {display: flex;flex-direction: column;align-items: center;background-color: white;padding-right: 0.2em;padding-left: 0.2em;position: relative;}#sk-container-id-5 div.sk-item {position: relative;z-index: 1;}#sk-container-id-5 div.sk-parallel {display: flex;align-items: stretch;justify-content: center;background-color: white;position: relative;}#sk-container-id-5 div.sk-item::before, #sk-container-id-5 div.sk-parallel-item::before {content: \"\";position: absolute;border-left: 1px solid gray;box-sizing: border-box;top: 0;bottom: 0;left: 50%;z-index: -1;}#sk-container-id-5 div.sk-parallel-item {display: flex;flex-direction: column;z-index: 1;position: relative;background-color: white;}#sk-container-id-5 div.sk-parallel-item:first-child::after {align-self: flex-end;width: 50%;}#sk-container-id-5 div.sk-parallel-item:last-child::after {align-self: flex-start;width: 50%;}#sk-container-id-5 div.sk-parallel-item:only-child::after {width: 0;}#sk-container-id-5 div.sk-dashed-wrapped {border: 1px dashed gray;margin: 0 0.4em 0.5em 0.4em;box-sizing: border-box;padding-bottom: 0.4em;background-color: white;}#sk-container-id-5 div.sk-label label {font-family: monospace;font-weight: bold;display: inline-block;line-height: 1.2em;}#sk-container-id-5 div.sk-label-container {text-align: center;}#sk-container-id-5 div.sk-container {/* jupyter's `normalize.less` sets `[hidden] { display: none; }` but bootstrap.min.css set `[hidden] { display: none !important; }` so we also need the `!important` here to be able to override the default hidden behavior on the sphinx rendered scikit-learn.org. See: https://github.com/scikit-learn/scikit-learn/issues/21755 */display: inline-block !important;position: relative;}#sk-container-id-5 div.sk-text-repr-fallback {display: none;}</style><div id=\"sk-container-id-5\" class=\"sk-top-container\"><div class=\"sk-text-repr-fallback\"><pre>GridSearchCV(cv=3,\n",
       "             estimator=Pipeline(steps=[(&#x27;preprocessor&#x27;,\n",
       "                                        ColumnTransformer(transformers=[(&#x27;scaled&#x27;,\n",
       "                                                                         StandardScaler(),\n",
       "                                                                         [&#x27;total_charges&#x27;,\n",
       "                                                                          &#x27;total_costs&#x27;]),\n",
       "                                                                        (&#x27;ohe&#x27;,\n",
       "                                                                         OneHotEncoder(handle_unknown=&#x27;ignore&#x27;,\n",
       "                                                                                       sparse_output=False),\n",
       "                                                                         [&#x27;facility_name&#x27;,\n",
       "                                                                          &#x27;age_group&#x27;,\n",
       "                                                                          &#x27;gender&#x27;,\n",
       "                                                                          &#x27;race&#x27;,\n",
       "                                                                          &#x27;type_of_admission&#x27;,\n",
       "                                                                          &#x27;patient_disposition&#x27;,\n",
       "                                                                          &#x27;ccs_diagnosis_description&#x27;,\n",
       "                                                                          &#x27;ccs_procedure_description&#x27;])])),\n",
       "                                       (&#x27;pca&#x27;, PCA(n_components=300)),\n",
       "                                       (&#x27;model&#x27;,\n",
       "                                        LinearSVR(random_state=0, tol=1e-05))]),\n",
       "             param_grid={&#x27;model__C&#x27;: [0.1], &#x27;model__epsilon&#x27;: [0.1],\n",
       "                         &#x27;model__loss&#x27;: [&#x27;squared_epsilon_insensitive&#x27;],\n",
       "                         &#x27;model__max_iter&#x27;: [100]},\n",
       "             refit=&#x27;r2&#x27;, scoring=[&#x27;r2&#x27;, &#x27;neg_root_mean_squared_error&#x27;])</pre><b>In a Jupyter environment, please rerun this cell to show the HTML representation or trust the notebook. <br />On GitHub, the HTML representation is unable to render, please try loading this page with nbviewer.org.</b></div><div class=\"sk-container\" hidden><div class=\"sk-item sk-dashed-wrapped\"><div class=\"sk-label-container\"><div class=\"sk-label sk-toggleable\"><input class=\"sk-toggleable__control sk-hidden--visually\" id=\"sk-estimator-id-32\" type=\"checkbox\" ><label for=\"sk-estimator-id-32\" class=\"sk-toggleable__label sk-toggleable__label-arrow\">GridSearchCV</label><div class=\"sk-toggleable__content\"><pre>GridSearchCV(cv=3,\n",
       "             estimator=Pipeline(steps=[(&#x27;preprocessor&#x27;,\n",
       "                                        ColumnTransformer(transformers=[(&#x27;scaled&#x27;,\n",
       "                                                                         StandardScaler(),\n",
       "                                                                         [&#x27;total_charges&#x27;,\n",
       "                                                                          &#x27;total_costs&#x27;]),\n",
       "                                                                        (&#x27;ohe&#x27;,\n",
       "                                                                         OneHotEncoder(handle_unknown=&#x27;ignore&#x27;,\n",
       "                                                                                       sparse_output=False),\n",
       "                                                                         [&#x27;facility_name&#x27;,\n",
       "                                                                          &#x27;age_group&#x27;,\n",
       "                                                                          &#x27;gender&#x27;,\n",
       "                                                                          &#x27;race&#x27;,\n",
       "                                                                          &#x27;type_of_admission&#x27;,\n",
       "                                                                          &#x27;patient_disposition&#x27;,\n",
       "                                                                          &#x27;ccs_diagnosis_description&#x27;,\n",
       "                                                                          &#x27;ccs_procedure_description&#x27;])])),\n",
       "                                       (&#x27;pca&#x27;, PCA(n_components=300)),\n",
       "                                       (&#x27;model&#x27;,\n",
       "                                        LinearSVR(random_state=0, tol=1e-05))]),\n",
       "             param_grid={&#x27;model__C&#x27;: [0.1], &#x27;model__epsilon&#x27;: [0.1],\n",
       "                         &#x27;model__loss&#x27;: [&#x27;squared_epsilon_insensitive&#x27;],\n",
       "                         &#x27;model__max_iter&#x27;: [100]},\n",
       "             refit=&#x27;r2&#x27;, scoring=[&#x27;r2&#x27;, &#x27;neg_root_mean_squared_error&#x27;])</pre></div></div></div><div class=\"sk-parallel\"><div class=\"sk-parallel-item\"><div class=\"sk-item\"><div class=\"sk-label-container\"><div class=\"sk-label sk-toggleable\"><input class=\"sk-toggleable__control sk-hidden--visually\" id=\"sk-estimator-id-33\" type=\"checkbox\" ><label for=\"sk-estimator-id-33\" class=\"sk-toggleable__label sk-toggleable__label-arrow\">estimator: Pipeline</label><div class=\"sk-toggleable__content\"><pre>Pipeline(steps=[(&#x27;preprocessor&#x27;,\n",
       "                 ColumnTransformer(transformers=[(&#x27;scaled&#x27;, StandardScaler(),\n",
       "                                                  [&#x27;total_charges&#x27;,\n",
       "                                                   &#x27;total_costs&#x27;]),\n",
       "                                                 (&#x27;ohe&#x27;,\n",
       "                                                  OneHotEncoder(handle_unknown=&#x27;ignore&#x27;,\n",
       "                                                                sparse_output=False),\n",
       "                                                  [&#x27;facility_name&#x27;, &#x27;age_group&#x27;,\n",
       "                                                   &#x27;gender&#x27;, &#x27;race&#x27;,\n",
       "                                                   &#x27;type_of_admission&#x27;,\n",
       "                                                   &#x27;patient_disposition&#x27;,\n",
       "                                                   &#x27;ccs_diagnosis_description&#x27;,\n",
       "                                                   &#x27;ccs_procedure_description&#x27;])])),\n",
       "                (&#x27;pca&#x27;, PCA(n_components=300)),\n",
       "                (&#x27;model&#x27;, LinearSVR(random_state=0, tol=1e-05))])</pre></div></div></div><div class=\"sk-serial\"><div class=\"sk-item\"><div class=\"sk-serial\"><div class=\"sk-item sk-dashed-wrapped\"><div class=\"sk-label-container\"><div class=\"sk-label sk-toggleable\"><input class=\"sk-toggleable__control sk-hidden--visually\" id=\"sk-estimator-id-34\" type=\"checkbox\" ><label for=\"sk-estimator-id-34\" class=\"sk-toggleable__label sk-toggleable__label-arrow\">preprocessor: ColumnTransformer</label><div class=\"sk-toggleable__content\"><pre>ColumnTransformer(transformers=[(&#x27;scaled&#x27;, StandardScaler(),\n",
       "                                 [&#x27;total_charges&#x27;, &#x27;total_costs&#x27;]),\n",
       "                                (&#x27;ohe&#x27;,\n",
       "                                 OneHotEncoder(handle_unknown=&#x27;ignore&#x27;,\n",
       "                                               sparse_output=False),\n",
       "                                 [&#x27;facility_name&#x27;, &#x27;age_group&#x27;, &#x27;gender&#x27;,\n",
       "                                  &#x27;race&#x27;, &#x27;type_of_admission&#x27;,\n",
       "                                  &#x27;patient_disposition&#x27;,\n",
       "                                  &#x27;ccs_diagnosis_description&#x27;,\n",
       "                                  &#x27;ccs_procedure_description&#x27;])])</pre></div></div></div><div class=\"sk-parallel\"><div class=\"sk-parallel-item\"><div class=\"sk-item\"><div class=\"sk-label-container\"><div class=\"sk-label sk-toggleable\"><input class=\"sk-toggleable__control sk-hidden--visually\" id=\"sk-estimator-id-35\" type=\"checkbox\" ><label for=\"sk-estimator-id-35\" class=\"sk-toggleable__label sk-toggleable__label-arrow\">scaled</label><div class=\"sk-toggleable__content\"><pre>[&#x27;total_charges&#x27;, &#x27;total_costs&#x27;]</pre></div></div></div><div class=\"sk-serial\"><div class=\"sk-item\"><div class=\"sk-estimator sk-toggleable\"><input class=\"sk-toggleable__control sk-hidden--visually\" id=\"sk-estimator-id-36\" type=\"checkbox\" ><label for=\"sk-estimator-id-36\" class=\"sk-toggleable__label sk-toggleable__label-arrow\">StandardScaler</label><div class=\"sk-toggleable__content\"><pre>StandardScaler()</pre></div></div></div></div></div></div><div class=\"sk-parallel-item\"><div class=\"sk-item\"><div class=\"sk-label-container\"><div class=\"sk-label sk-toggleable\"><input class=\"sk-toggleable__control sk-hidden--visually\" id=\"sk-estimator-id-37\" type=\"checkbox\" ><label for=\"sk-estimator-id-37\" class=\"sk-toggleable__label sk-toggleable__label-arrow\">ohe</label><div class=\"sk-toggleable__content\"><pre>[&#x27;facility_name&#x27;, &#x27;age_group&#x27;, &#x27;gender&#x27;, &#x27;race&#x27;, &#x27;type_of_admission&#x27;, &#x27;patient_disposition&#x27;, &#x27;ccs_diagnosis_description&#x27;, &#x27;ccs_procedure_description&#x27;]</pre></div></div></div><div class=\"sk-serial\"><div class=\"sk-item\"><div class=\"sk-estimator sk-toggleable\"><input class=\"sk-toggleable__control sk-hidden--visually\" id=\"sk-estimator-id-38\" type=\"checkbox\" ><label for=\"sk-estimator-id-38\" class=\"sk-toggleable__label sk-toggleable__label-arrow\">OneHotEncoder</label><div class=\"sk-toggleable__content\"><pre>OneHotEncoder(handle_unknown=&#x27;ignore&#x27;, sparse_output=False)</pre></div></div></div></div></div></div></div></div><div class=\"sk-item\"><div class=\"sk-estimator sk-toggleable\"><input class=\"sk-toggleable__control sk-hidden--visually\" id=\"sk-estimator-id-39\" type=\"checkbox\" ><label for=\"sk-estimator-id-39\" class=\"sk-toggleable__label sk-toggleable__label-arrow\">PCA</label><div class=\"sk-toggleable__content\"><pre>PCA(n_components=300)</pre></div></div></div><div class=\"sk-item\"><div class=\"sk-estimator sk-toggleable\"><input class=\"sk-toggleable__control sk-hidden--visually\" id=\"sk-estimator-id-40\" type=\"checkbox\" ><label for=\"sk-estimator-id-40\" class=\"sk-toggleable__label sk-toggleable__label-arrow\">LinearSVR</label><div class=\"sk-toggleable__content\"><pre>LinearSVR(random_state=0, tol=1e-05)</pre></div></div></div></div></div></div></div></div></div></div></div></div>"
      ],
      "text/plain": [
       "GridSearchCV(cv=3,\n",
       "             estimator=Pipeline(steps=[('preprocessor',\n",
       "                                        ColumnTransformer(transformers=[('scaled',\n",
       "                                                                         StandardScaler(),\n",
       "                                                                         ['total_charges',\n",
       "                                                                          'total_costs']),\n",
       "                                                                        ('ohe',\n",
       "                                                                         OneHotEncoder(handle_unknown='ignore',\n",
       "                                                                                       sparse_output=False),\n",
       "                                                                         ['facility_name',\n",
       "                                                                          'age_group',\n",
       "                                                                          'gender',\n",
       "                                                                          'race',\n",
       "                                                                          'type_of_admission',\n",
       "                                                                          'patient_disposition',\n",
       "                                                                          'ccs_diagnosis_description',\n",
       "                                                                          'ccs_procedure_description'])])),\n",
       "                                       ('pca', PCA(n_components=300)),\n",
       "                                       ('model',\n",
       "                                        LinearSVR(random_state=0, tol=1e-05))]),\n",
       "             param_grid={'model__C': [0.1], 'model__epsilon': [0.1],\n",
       "                         'model__loss': ['squared_epsilon_insensitive'],\n",
       "                         'model__max_iter': [100]},\n",
       "             refit='r2', scoring=['r2', 'neg_root_mean_squared_error'])"
      ]
     },
     "execution_count": 58,
     "metadata": {},
     "output_type": "execute_result"
    }
   ],
   "source": [
    "grid_search.fit(X_train, y_train)"
   ]
  },
  {
   "cell_type": "code",
   "execution_count": 59,
   "metadata": {},
   "outputs": [
    {
     "data": {
      "text/plain": [
       "{'model__C': 0.1,\n",
       " 'model__epsilon': 0.1,\n",
       " 'model__loss': 'squared_epsilon_insensitive',\n",
       " 'model__max_iter': 100}"
      ]
     },
     "execution_count": 59,
     "metadata": {},
     "output_type": "execute_result"
    }
   ],
   "source": [
    "grid_search.best_params_"
   ]
  },
  {
   "cell_type": "code",
   "execution_count": 60,
   "metadata": {},
   "outputs": [],
   "source": [
    "tuned_pipeline = Pipeline(steps=[('preprocessor', preprocessor),\n",
    "                              ('pca', PCA(n_components= 300)),\n",
    "                              ('model', LinearSVR(random_state=0, tol=1e-5, C=.1, epsilon=.1, \n",
    "                                                  loss='squared_epsilon_insensitive',max_iter=100))])"
   ]
  },
  {
   "cell_type": "code",
   "execution_count": 61,
   "metadata": {},
   "outputs": [
    {
     "data": {
      "text/html": [
       "<style>#sk-container-id-6 {color: black;}#sk-container-id-6 pre{padding: 0;}#sk-container-id-6 div.sk-toggleable {background-color: white;}#sk-container-id-6 label.sk-toggleable__label {cursor: pointer;display: block;width: 100%;margin-bottom: 0;padding: 0.3em;box-sizing: border-box;text-align: center;}#sk-container-id-6 label.sk-toggleable__label-arrow:before {content: \"▸\";float: left;margin-right: 0.25em;color: #696969;}#sk-container-id-6 label.sk-toggleable__label-arrow:hover:before {color: black;}#sk-container-id-6 div.sk-estimator:hover label.sk-toggleable__label-arrow:before {color: black;}#sk-container-id-6 div.sk-toggleable__content {max-height: 0;max-width: 0;overflow: hidden;text-align: left;background-color: #f0f8ff;}#sk-container-id-6 div.sk-toggleable__content pre {margin: 0.2em;color: black;border-radius: 0.25em;background-color: #f0f8ff;}#sk-container-id-6 input.sk-toggleable__control:checked~div.sk-toggleable__content {max-height: 200px;max-width: 100%;overflow: auto;}#sk-container-id-6 input.sk-toggleable__control:checked~label.sk-toggleable__label-arrow:before {content: \"▾\";}#sk-container-id-6 div.sk-estimator input.sk-toggleable__control:checked~label.sk-toggleable__label {background-color: #d4ebff;}#sk-container-id-6 div.sk-label input.sk-toggleable__control:checked~label.sk-toggleable__label {background-color: #d4ebff;}#sk-container-id-6 input.sk-hidden--visually {border: 0;clip: rect(1px 1px 1px 1px);clip: rect(1px, 1px, 1px, 1px);height: 1px;margin: -1px;overflow: hidden;padding: 0;position: absolute;width: 1px;}#sk-container-id-6 div.sk-estimator {font-family: monospace;background-color: #f0f8ff;border: 1px dotted black;border-radius: 0.25em;box-sizing: border-box;margin-bottom: 0.5em;}#sk-container-id-6 div.sk-estimator:hover {background-color: #d4ebff;}#sk-container-id-6 div.sk-parallel-item::after {content: \"\";width: 100%;border-bottom: 1px solid gray;flex-grow: 1;}#sk-container-id-6 div.sk-label:hover label.sk-toggleable__label {background-color: #d4ebff;}#sk-container-id-6 div.sk-serial::before {content: \"\";position: absolute;border-left: 1px solid gray;box-sizing: border-box;top: 0;bottom: 0;left: 50%;z-index: 0;}#sk-container-id-6 div.sk-serial {display: flex;flex-direction: column;align-items: center;background-color: white;padding-right: 0.2em;padding-left: 0.2em;position: relative;}#sk-container-id-6 div.sk-item {position: relative;z-index: 1;}#sk-container-id-6 div.sk-parallel {display: flex;align-items: stretch;justify-content: center;background-color: white;position: relative;}#sk-container-id-6 div.sk-item::before, #sk-container-id-6 div.sk-parallel-item::before {content: \"\";position: absolute;border-left: 1px solid gray;box-sizing: border-box;top: 0;bottom: 0;left: 50%;z-index: -1;}#sk-container-id-6 div.sk-parallel-item {display: flex;flex-direction: column;z-index: 1;position: relative;background-color: white;}#sk-container-id-6 div.sk-parallel-item:first-child::after {align-self: flex-end;width: 50%;}#sk-container-id-6 div.sk-parallel-item:last-child::after {align-self: flex-start;width: 50%;}#sk-container-id-6 div.sk-parallel-item:only-child::after {width: 0;}#sk-container-id-6 div.sk-dashed-wrapped {border: 1px dashed gray;margin: 0 0.4em 0.5em 0.4em;box-sizing: border-box;padding-bottom: 0.4em;background-color: white;}#sk-container-id-6 div.sk-label label {font-family: monospace;font-weight: bold;display: inline-block;line-height: 1.2em;}#sk-container-id-6 div.sk-label-container {text-align: center;}#sk-container-id-6 div.sk-container {/* jupyter's `normalize.less` sets `[hidden] { display: none; }` but bootstrap.min.css set `[hidden] { display: none !important; }` so we also need the `!important` here to be able to override the default hidden behavior on the sphinx rendered scikit-learn.org. See: https://github.com/scikit-learn/scikit-learn/issues/21755 */display: inline-block !important;position: relative;}#sk-container-id-6 div.sk-text-repr-fallback {display: none;}</style><div id=\"sk-container-id-6\" class=\"sk-top-container\"><div class=\"sk-text-repr-fallback\"><pre>Pipeline(steps=[(&#x27;preprocessor&#x27;,\n",
       "                 ColumnTransformer(transformers=[(&#x27;scaled&#x27;, StandardScaler(),\n",
       "                                                  [&#x27;total_charges&#x27;,\n",
       "                                                   &#x27;total_costs&#x27;]),\n",
       "                                                 (&#x27;ohe&#x27;,\n",
       "                                                  OneHotEncoder(handle_unknown=&#x27;ignore&#x27;,\n",
       "                                                                sparse_output=False),\n",
       "                                                  [&#x27;facility_name&#x27;, &#x27;age_group&#x27;,\n",
       "                                                   &#x27;gender&#x27;, &#x27;race&#x27;,\n",
       "                                                   &#x27;type_of_admission&#x27;,\n",
       "                                                   &#x27;patient_disposition&#x27;,\n",
       "                                                   &#x27;ccs_diagnosis_description&#x27;,\n",
       "                                                   &#x27;ccs_procedure_description&#x27;])])),\n",
       "                (&#x27;pca&#x27;, PCA(n_components=300)),\n",
       "                (&#x27;model&#x27;,\n",
       "                 LinearSVR(C=0.1, epsilon=0.1,\n",
       "                           loss=&#x27;squared_epsilon_insensitive&#x27;, max_iter=100,\n",
       "                           random_state=0, tol=1e-05))])</pre><b>In a Jupyter environment, please rerun this cell to show the HTML representation or trust the notebook. <br />On GitHub, the HTML representation is unable to render, please try loading this page with nbviewer.org.</b></div><div class=\"sk-container\" hidden><div class=\"sk-item sk-dashed-wrapped\"><div class=\"sk-label-container\"><div class=\"sk-label sk-toggleable\"><input class=\"sk-toggleable__control sk-hidden--visually\" id=\"sk-estimator-id-41\" type=\"checkbox\" ><label for=\"sk-estimator-id-41\" class=\"sk-toggleable__label sk-toggleable__label-arrow\">Pipeline</label><div class=\"sk-toggleable__content\"><pre>Pipeline(steps=[(&#x27;preprocessor&#x27;,\n",
       "                 ColumnTransformer(transformers=[(&#x27;scaled&#x27;, StandardScaler(),\n",
       "                                                  [&#x27;total_charges&#x27;,\n",
       "                                                   &#x27;total_costs&#x27;]),\n",
       "                                                 (&#x27;ohe&#x27;,\n",
       "                                                  OneHotEncoder(handle_unknown=&#x27;ignore&#x27;,\n",
       "                                                                sparse_output=False),\n",
       "                                                  [&#x27;facility_name&#x27;, &#x27;age_group&#x27;,\n",
       "                                                   &#x27;gender&#x27;, &#x27;race&#x27;,\n",
       "                                                   &#x27;type_of_admission&#x27;,\n",
       "                                                   &#x27;patient_disposition&#x27;,\n",
       "                                                   &#x27;ccs_diagnosis_description&#x27;,\n",
       "                                                   &#x27;ccs_procedure_description&#x27;])])),\n",
       "                (&#x27;pca&#x27;, PCA(n_components=300)),\n",
       "                (&#x27;model&#x27;,\n",
       "                 LinearSVR(C=0.1, epsilon=0.1,\n",
       "                           loss=&#x27;squared_epsilon_insensitive&#x27;, max_iter=100,\n",
       "                           random_state=0, tol=1e-05))])</pre></div></div></div><div class=\"sk-serial\"><div class=\"sk-item sk-dashed-wrapped\"><div class=\"sk-label-container\"><div class=\"sk-label sk-toggleable\"><input class=\"sk-toggleable__control sk-hidden--visually\" id=\"sk-estimator-id-42\" type=\"checkbox\" ><label for=\"sk-estimator-id-42\" class=\"sk-toggleable__label sk-toggleable__label-arrow\">preprocessor: ColumnTransformer</label><div class=\"sk-toggleable__content\"><pre>ColumnTransformer(transformers=[(&#x27;scaled&#x27;, StandardScaler(),\n",
       "                                 [&#x27;total_charges&#x27;, &#x27;total_costs&#x27;]),\n",
       "                                (&#x27;ohe&#x27;,\n",
       "                                 OneHotEncoder(handle_unknown=&#x27;ignore&#x27;,\n",
       "                                               sparse_output=False),\n",
       "                                 [&#x27;facility_name&#x27;, &#x27;age_group&#x27;, &#x27;gender&#x27;,\n",
       "                                  &#x27;race&#x27;, &#x27;type_of_admission&#x27;,\n",
       "                                  &#x27;patient_disposition&#x27;,\n",
       "                                  &#x27;ccs_diagnosis_description&#x27;,\n",
       "                                  &#x27;ccs_procedure_description&#x27;])])</pre></div></div></div><div class=\"sk-parallel\"><div class=\"sk-parallel-item\"><div class=\"sk-item\"><div class=\"sk-label-container\"><div class=\"sk-label sk-toggleable\"><input class=\"sk-toggleable__control sk-hidden--visually\" id=\"sk-estimator-id-43\" type=\"checkbox\" ><label for=\"sk-estimator-id-43\" class=\"sk-toggleable__label sk-toggleable__label-arrow\">scaled</label><div class=\"sk-toggleable__content\"><pre>[&#x27;total_charges&#x27;, &#x27;total_costs&#x27;]</pre></div></div></div><div class=\"sk-serial\"><div class=\"sk-item\"><div class=\"sk-estimator sk-toggleable\"><input class=\"sk-toggleable__control sk-hidden--visually\" id=\"sk-estimator-id-44\" type=\"checkbox\" ><label for=\"sk-estimator-id-44\" class=\"sk-toggleable__label sk-toggleable__label-arrow\">StandardScaler</label><div class=\"sk-toggleable__content\"><pre>StandardScaler()</pre></div></div></div></div></div></div><div class=\"sk-parallel-item\"><div class=\"sk-item\"><div class=\"sk-label-container\"><div class=\"sk-label sk-toggleable\"><input class=\"sk-toggleable__control sk-hidden--visually\" id=\"sk-estimator-id-45\" type=\"checkbox\" ><label for=\"sk-estimator-id-45\" class=\"sk-toggleable__label sk-toggleable__label-arrow\">ohe</label><div class=\"sk-toggleable__content\"><pre>[&#x27;facility_name&#x27;, &#x27;age_group&#x27;, &#x27;gender&#x27;, &#x27;race&#x27;, &#x27;type_of_admission&#x27;, &#x27;patient_disposition&#x27;, &#x27;ccs_diagnosis_description&#x27;, &#x27;ccs_procedure_description&#x27;]</pre></div></div></div><div class=\"sk-serial\"><div class=\"sk-item\"><div class=\"sk-estimator sk-toggleable\"><input class=\"sk-toggleable__control sk-hidden--visually\" id=\"sk-estimator-id-46\" type=\"checkbox\" ><label for=\"sk-estimator-id-46\" class=\"sk-toggleable__label sk-toggleable__label-arrow\">OneHotEncoder</label><div class=\"sk-toggleable__content\"><pre>OneHotEncoder(handle_unknown=&#x27;ignore&#x27;, sparse_output=False)</pre></div></div></div></div></div></div></div></div><div class=\"sk-item\"><div class=\"sk-estimator sk-toggleable\"><input class=\"sk-toggleable__control sk-hidden--visually\" id=\"sk-estimator-id-47\" type=\"checkbox\" ><label for=\"sk-estimator-id-47\" class=\"sk-toggleable__label sk-toggleable__label-arrow\">PCA</label><div class=\"sk-toggleable__content\"><pre>PCA(n_components=300)</pre></div></div></div><div class=\"sk-item\"><div class=\"sk-estimator sk-toggleable\"><input class=\"sk-toggleable__control sk-hidden--visually\" id=\"sk-estimator-id-48\" type=\"checkbox\" ><label for=\"sk-estimator-id-48\" class=\"sk-toggleable__label sk-toggleable__label-arrow\">LinearSVR</label><div class=\"sk-toggleable__content\"><pre>LinearSVR(C=0.1, epsilon=0.1, loss=&#x27;squared_epsilon_insensitive&#x27;, max_iter=100,\n",
       "          random_state=0, tol=1e-05)</pre></div></div></div></div></div></div></div>"
      ],
      "text/plain": [
       "Pipeline(steps=[('preprocessor',\n",
       "                 ColumnTransformer(transformers=[('scaled', StandardScaler(),\n",
       "                                                  ['total_charges',\n",
       "                                                   'total_costs']),\n",
       "                                                 ('ohe',\n",
       "                                                  OneHotEncoder(handle_unknown='ignore',\n",
       "                                                                sparse_output=False),\n",
       "                                                  ['facility_name', 'age_group',\n",
       "                                                   'gender', 'race',\n",
       "                                                   'type_of_admission',\n",
       "                                                   'patient_disposition',\n",
       "                                                   'ccs_diagnosis_description',\n",
       "                                                   'ccs_procedure_description'])])),\n",
       "                ('pca', PCA(n_components=300)),\n",
       "                ('model',\n",
       "                 LinearSVR(C=0.1, epsilon=0.1,\n",
       "                           loss='squared_epsilon_insensitive', max_iter=100,\n",
       "                           random_state=0, tol=1e-05))])"
      ]
     },
     "execution_count": 61,
     "metadata": {},
     "output_type": "execute_result"
    }
   ],
   "source": [
    "tuned_pipeline.fit(X_train, y_train)"
   ]
  },
  {
   "cell_type": "code",
   "execution_count": 62,
   "metadata": {},
   "outputs": [],
   "source": [
    "tuned_r2 = cross_validate(tuned_pipeline, X_train, y_train, scoring=\"r2\", return_train_score=True)\n",
    "tuned_rmse = cross_validate(tuned_pipeline, X_train, y_train, scoring=\"neg_root_mean_squared_error\", \n",
    "                            return_train_score=True)\n",
    "\n",
    "tuned_v_r2 = cross_validate(tuned_pipeline, X_valid, y_valid, scoring=\"r2\", return_train_score=True)\n",
    "tuned_v_rmse = cross_validate(tuned_pipeline, X_valid, y_valid, scoring=\"neg_root_mean_squared_error\", \n",
    "                            return_train_score=True)"
   ]
  },
  {
   "cell_type": "code",
   "execution_count": 63,
   "metadata": {
    "scrolled": true
   },
   "outputs": [
    {
     "name": "stdout",
     "output_type": "stream",
     "text": [
      "Tuned LinearSVR Regression X_train cross validation scores:\n",
      "\n",
      "\n",
      "r2 scores - \n",
      "Average Train Score: 0.7185090921043514\n",
      "Average Test Score: 0.7168082994042709\n",
      "\n",
      "\n",
      "rmse scores -\n",
      "Average Train Score: -4.563196124481495\n",
      "Average Test Score: -4.573564845043153\n",
      "/n\n",
      "Tuned LinearSVR Regression X_valid cross validation scores:\n",
      "\n",
      "\n",
      "r2 scores - \n",
      "Average Train Score: 0.5354686634429251\n",
      "Average Test Score: 0.5247370341382387\n",
      "\n",
      "\n",
      "rmse scores -\n",
      "Average Train Score: -5.8238681588783\n",
      "Average Test Score: -5.736906643105388\n"
     ]
    }
   ],
   "source": [
    "metrics_cv(tuned_r2,tuned_rmse, 'Tuned LinearSVR Regression', 'X_train')\n",
    "print('/n')\n",
    "metrics_cv(tuned_v_r2,tuned_v_rmse, 'Tuned LinearSVR Regression', 'X_valid')"
   ]
  },
  {
   "cell_type": "markdown",
   "metadata": {},
   "source": [
    "## Evaluation"
   ]
  },
  {
   "cell_type": "markdown",
   "metadata": {},
   "source": [
    "### Final Model"
   ]
  },
  {
   "cell_type": "code",
   "execution_count": null,
   "metadata": {},
   "outputs": [],
   "source": []
  },
  {
   "cell_type": "markdown",
   "metadata": {},
   "source": [
    "**Final Model = LinearSVR(random_state=0, tol=1e-5, C=.1, epsilon=.1,loss='squared_epsilon_insensitive',max_iter=100)**"
   ]
  },
  {
   "cell_type": "code",
   "execution_count": 66,
   "metadata": {},
   "outputs": [],
   "source": [
    "final_pipeline = linreg_pipeline\n"
   ]
  },
  {
   "cell_type": "code",
   "execution_count": 67,
   "metadata": {},
   "outputs": [
    {
     "data": {
      "text/plain": [
       "0.7439640302499733"
      ]
     },
     "execution_count": 67,
     "metadata": {},
     "output_type": "execute_result"
    }
   ],
   "source": [
    "final_pipeline.score(X_test, y_test)"
   ]
  },
  {
   "cell_type": "code",
   "execution_count": 68,
   "metadata": {},
   "outputs": [],
   "source": [
    "y_pred = final_pipeline.predict(X_test)"
   ]
  },
  {
   "cell_type": "code",
   "execution_count": 69,
   "metadata": {},
   "outputs": [],
   "source": [
    "rmse = sqrt(mean_squared_error(y_test, y_pred))"
   ]
  },
  {
   "cell_type": "code",
   "execution_count": 70,
   "metadata": {},
   "outputs": [
    {
     "data": {
      "text/plain": [
       "4.359668244643668"
      ]
     },
     "execution_count": 70,
     "metadata": {},
     "output_type": "execute_result"
    }
   ],
   "source": [
    "rmse"
   ]
  },
  {
   "cell_type": "markdown",
   "metadata": {},
   "source": [
    "## Conclusion"
   ]
  },
  {
   "cell_type": "markdown",
   "metadata": {},
   "source": [
    "### Limitations "
   ]
  },
  {
   "cell_type": "markdown",
   "metadata": {},
   "source": [
    "### Recommendations/Next Steps"
   ]
  },
  {
   "cell_type": "markdown",
   "metadata": {},
   "source": []
  },
  {
   "cell_type": "markdown",
   "metadata": {},
   "source": [
    "#### Citations\n",
    "- *1: https://www.kaggle.com/datasets/thedevastator/2010-new-york-state-hospital-inpatient-discharge\n",
    "- *2: \n",
    "- *3: \n",
    "- *4: \n",
    "- *5: \n",
    "- *6: \n",
    "- *7: \n",
    "- *8: \n",
    "- *9: "
   ]
  }
 ],
 "metadata": {
  "kernelspec": {
   "display_name": "Python (learn-env)",
   "language": "python",
   "name": "learn-env"
  },
  "language_info": {
   "codemirror_mode": {
    "name": "ipython",
    "version": 3
   },
   "file_extension": ".py",
   "mimetype": "text/x-python",
   "name": "python",
   "nbconvert_exporter": "python",
   "pygments_lexer": "ipython3",
   "version": "3.8.5"
  }
 },
 "nbformat": 4,
 "nbformat_minor": 4
}
